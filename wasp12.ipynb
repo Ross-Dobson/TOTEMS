{
 "cells": [
  {
   "cell_type": "code",
   "execution_count": null,
   "metadata": {
    "collapsed": false
   },
   "outputs": [],
   "source": [
    "etd_used = False\n",
    "\n",
    "wasp12_ra = \"06 30 32.79\"\n",
    "wasp12_dec = \"+29 40 20.20\"\n",
    "wasp12_etd_url = \"http://var2.astro.cz/ETD/ascii-etd.php?id=246&STARNAME=WASP-12&PLANET=b&PER=1.0914222&EPOCH=2454508\" \\\n",
    "              \".97605\"\n",
    "\n",
    "# Get data from ETD\n",
    "wasp12_etd_no, wasp12_etd_bjd, wasp12_etd_mid_err, wasp12_etd_epoch, wasp12_etd_dq, wasp12_p_0, wasp12_t_0 = \\\n",
    "    get_etd_data(wasp12_ra, wasp12_dec, wasp12_etd_url)\n",
    "etd_used = True\n",
    "\n",
    "# Filter the data - let's use DQ 4, just to exclude only the worst data\n",
    "DQ_filter = 4\n",
    "wasp12_etd_data = filter_etd_data(wasp12_etd_no, wasp12_etd_bjd, wasp12_etd_mid_err, wasp12_etd_epoch, wasp12_etd_dq,\n",
    "                               DQ_filter)\n",
    "\n",
    "# So, now we have the period and mid-time @ epoch 0, and we have the mid-times, uncertainties, and epochs.\n",
    "\n",
    "# Add own archive data, from an example file.\n",
    "path_to_own_data=\"example_data.csv\"\n",
    "wasp12_own_bjd, wasp12_own_mid_err, wasp12_own_epoch, wasp12_p_0, wasp12_t_0 = add_own_data(path_to_own_data)\n",
    "wasp12_own_data = [wasp12_own_bjd, wasp12_own_mid_err, wasp12_own_epoch]\n",
    "\n",
    "# Now we need to construct the final array of data, sorted by epoch, for plotting:\n",
    "# (Obviously, if just using ETD or just using archive, comment this whole section out\n"
   ]
  }
 ],
 "metadata": {
  "kernelspec": {
   "argv": [
    "/opt/anaconda3/envs/TOTEMS/bin/python",
    "-m",
    "ipykernel_launcher",
    "-f",
    "{connection_file}"
   ],
   "display_name": "Python 3",
   "env": null,
   "interrupt_mode": "signal",
   "language": "python",
   "metadata": null,
   "name": "python3"
  },
  "name": "wasp12.ipynb"
 },
 "nbformat": 4,
 "nbformat_minor": 4
}
