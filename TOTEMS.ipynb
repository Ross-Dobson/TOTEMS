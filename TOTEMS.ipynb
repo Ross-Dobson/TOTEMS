{
  "nbformat": 4,
  "nbformat_minor": 0,
  "metadata": {
    "kernelspec": {
      "argv": [
        "/opt/anaconda3/envs/TOTEMS/bin/python",
        "-m",
        "ipykernel_launcher",
        "-f",
        "{connection_file}"
      ],
      "display_name": "Python 3",
      "env": null,
      "interrupt_mode": "signal",
      "language": "python",
      "metadata": null,
      "name": "python3"
    },
    "language_info": {
      "codemirror_mode": {
        "name": "ipython",
        "version": 3
      },
      "file_extension": ".py",
      "mimetype": "text/x-python",
      "name": "python",
      "nbconvert_exporter": "python",
      "pygments_lexer": "ipython3",
      "version": "3.7.7"
    },
    "name": "TOTEMS.ipynb",
    "colab": {
      "name": "TOTEMS.ipynb",
      "provenance": [],
      "collapsed_sections": []
    }
  },
  "cells": [
    {
      "cell_type": "markdown",
      "metadata": {
        "id": "PvNWKvWbUPO5"
      },
      "source": [
        "# TOTEMS - Tidal Orbital decay Timing Extrapolation & Modelling Software\n",
        "**Ross Dobson, last update 2020-11-22 | [Github](https://github.com/Ross-Dobson/TOTEMS)**\n",
        "\n",
        "# Introduction\n",
        "This code analyses Exoplanet mid-transit times $t_\\text{mid}$ for signs of orbital decay, specifically those caused by tidal interaction. It also attempts to ascertain between these, or the similar effects of apsidal precession of the orbit. I provide an example of doing this with WASP-12b. This code was originally written solely by me as my contribution to a group project during my undergrad at University College London; it has been considerably rewritten and improved upon since then.\n",
        "\n",
        "## Theory\n",
        "Consider that a stable, circular orbit with no decay can be modelled as:\n",
        "\n",
        "$$ t(E)=t_0+P\\times{E}, $$ where $E$ is the epoch number of periods/transits since the reference mid-time $t_0$, and $P$ is the orbital period.\n",
        "\n",
        "A decaying orbit due to tidal decay can be modelled as\n",
        "\n",
        "$$ t(E)=t_0+P\\times{E} + \\frac{1}{2}\\frac{dP}{dE}E^2, $$\n",
        "\n",
        "and apsidal precession can be modelled as\n",
        "\n",
        "$$ t(E)=t_0+P_s\\times{E} - \\frac{eP_a}{\\pi}\\cos\\left({\\omega(E)}\\right)$$ where orbital period is now $P_s$, the sidereal period, to distinguish from anomalistic period $P_a=P_s\\left(1-\\frac{d\\omega/dE}{2\\pi}\\right)^{-1} $, and the argument of pericenter evolves as $ \\omega(E) = \\omega_0 + \\frac{d\\omega}{dE}E $. \n",
        "\n",
        "Reference: [Kishore C. Patra *et al* 2017 AJ 154 4](https://doi.org/10.3847/1538-3881/aa6d75)\n",
        "\n",
        "## Data Preparation\n",
        "\n",
        "Prepare a CSV with three columns: the mid-time in Julian Date, the uncertainty on this, and the type of JD: either HJD_UTC, HJD_TDB, BJD_UTC, BJD_TDB. All times will be converted if necessary to BJD_TDB automatically.\n",
        "\n",
        "Alternatively, or in addition, mid-time data can be imported from the [Exoplanet Transit Database](http://var2.astro.cz/ETD/). However, this comes from a variety of sources of differing quality, so it in the authors experience is best to avoid using solely this data.\n",
        "\n",
        "If you have values for the (initial) orbital period $P_0$ and the mid-time for epoch 0, $t_0$, you can input these; else the value for $P_0$ will be obtained from ETD, the value for $t_0$ will be set at the earliest $t_\\text{mid}$."
      ]
    },
    {
      "cell_type": "markdown",
      "metadata": {
        "id": "r1VagoomDN0W"
      },
      "source": [
        "To convert mid-times into BJD$_\\text{TDB}$, the [`pylightcurve`](https://github.com/ucl-exoplanets/pylightcurve) module is utilised. This was initially provided to me by Dr. Angelos Tsiaras of University College London."
      ]
    },
    {
      "cell_type": "code",
      "metadata": {
        "colab": {
          "base_uri": "https://localhost:8080/"
        },
        "id": "aZb6BsgDSxPm",
        "outputId": "bc4592c8-431e-4e01-90ea-3121f1c5332c"
      },
      "source": [
        "!pip install pylightcurve"
      ],
      "execution_count": 35,
      "outputs": [
        {
          "output_type": "stream",
          "text": [
            "Requirement already satisfied: pylightcurve in /usr/local/lib/python3.6/dist-packages (3.0.4)\n",
            "Requirement already satisfied: emcee in /usr/local/lib/python3.6/dist-packages (from pylightcurve) (3.0.2)\n",
            "Requirement already satisfied: scipy in /usr/local/lib/python3.6/dist-packages (from pylightcurve) (1.4.1)\n",
            "Requirement already satisfied: matplotlib in /usr/local/lib/python3.6/dist-packages (from pylightcurve) (3.2.2)\n",
            "Requirement already satisfied: seaborn in /usr/local/lib/python3.6/dist-packages (from pylightcurve) (0.11.0)\n",
            "Requirement already satisfied: numpy in /usr/local/lib/python3.6/dist-packages (from pylightcurve) (1.18.5)\n",
            "Requirement already satisfied: sklearn in /usr/local/lib/python3.6/dist-packages (from pylightcurve) (0.0)\n",
            "Requirement already satisfied: exodata in /usr/local/lib/python3.6/dist-packages (from pylightcurve) (2.1.7)\n",
            "Requirement already satisfied: astroquery in /usr/local/lib/python3.6/dist-packages (from pylightcurve) (0.4.1)\n",
            "Requirement already satisfied: astropy in /usr/local/lib/python3.6/dist-packages (from pylightcurve) (4.1)\n",
            "Requirement already satisfied: pyparsing!=2.0.4,!=2.1.2,!=2.1.6,>=2.0.1 in /usr/local/lib/python3.6/dist-packages (from matplotlib->pylightcurve) (2.4.7)\n",
            "Requirement already satisfied: python-dateutil>=2.1 in /usr/local/lib/python3.6/dist-packages (from matplotlib->pylightcurve) (2.8.1)\n",
            "Requirement already satisfied: cycler>=0.10 in /usr/local/lib/python3.6/dist-packages (from matplotlib->pylightcurve) (0.10.0)\n",
            "Requirement already satisfied: kiwisolver>=1.0.1 in /usr/local/lib/python3.6/dist-packages (from matplotlib->pylightcurve) (1.3.1)\n",
            "Requirement already satisfied: pandas>=0.23 in /usr/local/lib/python3.6/dist-packages (from seaborn->pylightcurve) (1.1.4)\n",
            "Requirement already satisfied: scikit-learn in /usr/local/lib/python3.6/dist-packages (from sklearn->pylightcurve) (0.22.2.post1)\n",
            "Requirement already satisfied: nose>=1.0 in /usr/local/lib/python3.6/dist-packages (from exodata->pylightcurve) (1.3.7)\n",
            "Requirement already satisfied: requests in /usr/local/lib/python3.6/dist-packages (from exodata->pylightcurve) (2.23.0)\n",
            "Requirement already satisfied: quantities in /usr/local/lib/python3.6/dist-packages (from exodata->pylightcurve) (0.12.4)\n",
            "Requirement already satisfied: six in /usr/local/lib/python3.6/dist-packages (from astroquery->pylightcurve) (1.15.0)\n",
            "Requirement already satisfied: beautifulsoup4>=4.3.2 in /usr/local/lib/python3.6/dist-packages (from astroquery->pylightcurve) (4.6.3)\n",
            "Requirement already satisfied: keyring>=4.0 in /usr/local/lib/python3.6/dist-packages (from astroquery->pylightcurve) (21.5.0)\n",
            "Requirement already satisfied: html5lib>=0.999 in /usr/local/lib/python3.6/dist-packages (from astroquery->pylightcurve) (1.0.1)\n",
            "Requirement already satisfied: pytz>=2017.2 in /usr/local/lib/python3.6/dist-packages (from pandas>=0.23->seaborn->pylightcurve) (2018.9)\n",
            "Requirement already satisfied: joblib>=0.11 in /usr/local/lib/python3.6/dist-packages (from scikit-learn->sklearn->pylightcurve) (0.17.0)\n",
            "Requirement already satisfied: chardet<4,>=3.0.2 in /usr/local/lib/python3.6/dist-packages (from requests->exodata->pylightcurve) (3.0.4)\n",
            "Requirement already satisfied: certifi>=2017.4.17 in /usr/local/lib/python3.6/dist-packages (from requests->exodata->pylightcurve) (2020.6.20)\n",
            "Requirement already satisfied: idna<3,>=2.5 in /usr/local/lib/python3.6/dist-packages (from requests->exodata->pylightcurve) (2.10)\n",
            "Requirement already satisfied: urllib3!=1.25.0,!=1.25.1,<1.26,>=1.21.1 in /usr/local/lib/python3.6/dist-packages (from requests->exodata->pylightcurve) (1.24.3)\n",
            "Requirement already satisfied: SecretStorage>=3.2; sys_platform == \"linux\" in /usr/local/lib/python3.6/dist-packages (from keyring>=4.0->astroquery->pylightcurve) (3.2.0)\n",
            "Requirement already satisfied: jeepney>=0.4.2; sys_platform == \"linux\" in /usr/local/lib/python3.6/dist-packages (from keyring>=4.0->astroquery->pylightcurve) (0.6.0)\n",
            "Requirement already satisfied: importlib-metadata>=1; python_version < \"3.8\" in /usr/local/lib/python3.6/dist-packages (from keyring>=4.0->astroquery->pylightcurve) (2.0.0)\n",
            "Requirement already satisfied: webencodings in /usr/local/lib/python3.6/dist-packages (from html5lib>=0.999->astroquery->pylightcurve) (0.5.1)\n",
            "Requirement already satisfied: cryptography>=2.0 in /usr/local/lib/python3.6/dist-packages (from SecretStorage>=3.2; sys_platform == \"linux\"->keyring>=4.0->astroquery->pylightcurve) (3.2.1)\n",
            "Requirement already satisfied: zipp>=0.5 in /usr/local/lib/python3.6/dist-packages (from importlib-metadata>=1; python_version < \"3.8\"->keyring>=4.0->astroquery->pylightcurve) (3.4.0)\n",
            "Requirement already satisfied: cffi!=1.11.3,>=1.8 in /usr/local/lib/python3.6/dist-packages (from cryptography>=2.0->SecretStorage>=3.2; sys_platform == \"linux\"->keyring>=4.0->astroquery->pylightcurve) (1.14.3)\n",
            "Requirement already satisfied: pycparser in /usr/local/lib/python3.6/dist-packages (from cffi!=1.11.3,>=1.8->cryptography>=2.0->SecretStorage>=3.2; sys_platform == \"linux\"->keyring>=4.0->astroquery->pylightcurve) (2.20)\n"
          ],
          "name": "stdout"
        }
      ]
    },
    {
      "cell_type": "code",
      "metadata": {
        "pycharm": {
          "name": "#%%\n"
        },
        "id": "q2zAv4MrR1-4"
      },
      "source": [
        "import numpy as np\n",
        "import pandas as pd\n",
        "from tqdm import tqdm\n",
        "import matplotlib.pyplot as plt\n",
        "\n",
        "#Import curve fitting (Which is what we need for tidal decay)\n",
        "from scipy.optimize import curve_fit\n",
        "\n",
        "#Import pylightcurve, used for BJD HJD conversions - thanks to Angelos Tsiaras\n",
        "import pylightcurve as plc"
      ],
      "execution_count": 36,
      "outputs": []
    },
    {
      "cell_type": "code",
      "metadata": {
        "pycharm": {
          "name": "#%%\n"
        },
        "id": "wbUOwVtgR1-5"
      },
      "source": [
        "%matplotlib inline"
      ],
      "execution_count": 37,
      "outputs": []
    },
    {
      "cell_type": "markdown",
      "metadata": {
        "id": "9akxAfEhZa7R"
      },
      "source": [
        "## Planet properties\n",
        "\n",
        "Using the [Open Exoplanet Catalogue](https://github.com/OpenExoplanetCatalogue/open_exoplanet_catalogue), we can automatically obtain a large number of parameters for most exoplanets. A lot of this information is loaded from NASA Exoplanet Archive, see the Github for more information.\n"
      ]
    },
    {
      "cell_type": "code",
      "metadata": {
        "id": "hF9_iFZUuyLa"
      },
      "source": [
        "import xml.etree.ElementTree as ET, urllib.request, gzip, io\n",
        "oec_url = \"https://github.com/OpenExoplanetCatalogue/oec_gzip/raw/master/systems.xml.gz\"\n",
        "oec = ET.parse(gzip.GzipFile(fileobj=io.BytesIO(urllib.request.urlopen(oec_url).read())))"
      ],
      "execution_count": 38,
      "outputs": []
    },
    {
      "cell_type": "markdown",
      "metadata": {
        "id": "Y5osLHkijAB1"
      },
      "source": [
        "A list of all planets in the database (to check if your target is there) can be generated with:\n",
        "\n",
        "```\n",
        "for planet in oec.findall(\".//planet\"):\n",
        "    print(planet.findtext(\"name\"))\n",
        "```\n",
        "Beware this produces a long list.\n",
        "\n",
        "---\n",
        "The below function returns the Right Ascension (hh mm ss.ss), Declination (dd mm ss.ss), Eccentricity $e$, orbital period $P$ (days), and Argument of Periastron $\\omega$ (deg).\n"
      ]
    },
    {
      "cell_type": "code",
      "metadata": {
        "colab": {
          "base_uri": "https://localhost:8080/"
        },
        "id": "aqBE9P6Qy5eV",
        "outputId": "bfcccb24-33b0-4728-c028-1fa61ecd3295"
      },
      "source": [
        "def get_oec_planet_data(planet_name):\n",
        "    \"\"\"Obtains RA, Dec, e, P, and Periastron from Open Exoplanet Catalogue.\n",
        "\n",
        "    Also prints the full system and planetary properties. Planet name needs to \n",
        "    match one on the list. To see the full list, run::\n",
        "\n",
        "        for planet in oec.findall(\".//planet\"):\n",
        "            print(planet.findtext(\"name\"))\n",
        "    \n",
        "    Parameters\n",
        "    ----------\n",
        "    planet_name : string\n",
        "        The name of the exoplanet to get the OEC data of.\n",
        "\n",
        "    Returns\n",
        "    -------\n",
        "    ra : string\n",
        "        Right Ascension of the system, format hh mm ss.ss\n",
        "    dec : string\n",
        "        Declination of the system, format dd mm ss.ss\n",
        "    period : float\n",
        "        Period of the planetary orbit in days\n",
        "    eccentricity : float\n",
        "        Eccentricity of the planetary orbit\n",
        "    periastron : float\n",
        "        Argument of periastron of the orbit (degrees)\n",
        "\n",
        "    Notes\n",
        "    -----\n",
        "    If a value is not present in the catalogue, a None will be returned.\n",
        "    \"\"\"\n",
        "    system_name = planet_name.split()[0]\n",
        "\n",
        "    print(\"System Properties:\")\n",
        "    for properties in oec.findall(\".//system[name='{0}']/*\".format(system_name)):\n",
        "        print(\"\\t\" + properties.tag + \":\", properties.text)\n",
        "\n",
        "    print(\"Planet Properties:\")\n",
        "    for properties in oec.findall(\".//planet[name='{0}']/*\".format(planet_name)):\n",
        "        print(\"\\t\" + properties.tag + \":\", properties.text)\n",
        "\n",
        "    for system in oec.findall(\".//system[name='{0}']\".format(system_name)):\n",
        "        ra = system.findtext(\"rightascension\")\n",
        "        dec = system.findtext(\"declination\")\n",
        "\n",
        "    for planet in oec.findall(\".//planet[name='{0}']\".format(planet_name)):\n",
        "        period = planet.findtext(\"period\")\n",
        "        eccentricity = planet.findtext(\"eccentricity\")\n",
        "        periastron = planet.findtext(\"periastron\")\n",
        "\n",
        "    return ra, dec, period, eccentricity, periastron\n",
        "\n",
        "planet_name='WASP-12 b'\n",
        "wasp12_ra, wasp12_dec, wasp12_period, wasp12_eccentricity, wasp12_periastron = get_oec_planet_data(planet_name)"
      ],
      "execution_count": 39,
      "outputs": [
        {
          "output_type": "stream",
          "text": [
            "System Properties:\n",
            "\tname: WASP-12\n",
            "\trightascension: 06 30 33\n",
            "\tdeclination: +29 40 20\n",
            "\tdistance: 250\n",
            "\tbinary: \n",
            "\t\t\n",
            "Planet Properties:\n",
            "\tname: WASP-12 b\n",
            "\tname: WASP-12 A b\n",
            "\tname: 2MASS J06303279+2940202 b\n",
            "\tlist: Confirmed planets\n",
            "\tmass: 1.404\n",
            "\tradius: 1.736\n",
            "\tperiod: 1.0914222\n",
            "\tsemimajoraxis: 0.02293\n",
            "\teccentricity: 0.0\n",
            "\tinclination: 86\n",
            "\tspinorbitalignment: 59\n",
            "\ttransittime: 2454508.98074\n",
            "\tdiscoverymethod: transit\n",
            "\tlastupdate: 13/07/31\n",
            "\tdescription: The host star of WASP-12 b is the primary of a hierarchical triple system. The distant binary consists of two M dwarfs.\n",
            "\tdiscoveryyear: 2008\n",
            "\ttemperature: 2319.7\n",
            "\tlist: Planets in binary systems, S-type\n",
            "\tistransiting: 1\n"
          ],
          "name": "stdout"
        }
      ]
    },
    {
      "cell_type": "markdown",
      "metadata": {
        "id": "Stsq0q5KjJjl"
      },
      "source": [
        "## Transit times\n",
        "\n"
      ]
    },
    {
      "cell_type": "markdown",
      "metadata": {
        "id": "TwTF7UdN0r4S"
      },
      "source": [
        "One option is to get data from the [Exoplanet Transit Database](http://var2.astro.cz/ETD). This data tends to be from multiple sources of differing techniques and quality, however. In the author's experience, it should be used only as a last resort, or alongside data from any recent paper."
      ]
    },
    {
      "cell_type": "code",
      "metadata": {
        "id": "ja0u05DgSdxY"
      },
      "source": [
        "wasp12_etd_url = 'http://var2.astro.cz/ETD/ascii-etd.php?id=246&STARNAME=WASP-12&PLANET=b&PER=1.0914222&EPOCH=2454508.97605'"
      ],
      "execution_count": 40,
      "outputs": []
    },
    {
      "cell_type": "markdown",
      "metadata": {
        "id": "gMj0IMuU09Wi"
      },
      "source": [
        "If using solely ETD data, it probably makes sense to use their values of $P_0$ and $t_0$, inheriting their epoch system."
      ]
    },
    {
      "cell_type": "code",
      "metadata": {
        "id": "wwhQriiX0AVg",
        "colab": {
          "base_uri": "https://localhost:8080/"
        },
        "outputId": "6bd6b87e-390d-4224-fd80-16f16f4b8ce8"
      },
      "source": [
        "def get_etd_p0_t0(etd_url):\n",
        "    \"\"\"Obtains the values of P_0 (period) and t_0 (tmid at epoch 0) from ETD.\n",
        "    \n",
        "    Parameters\n",
        "    ----------\n",
        "    etd_url : string\n",
        "        The URL to the .csv file for the planet on ETD.\n",
        "\n",
        "    Returns\n",
        "    -------\n",
        "    p0\n",
        "    \"\"\"\n",
        "    # Load in the row, split in two via delimeter choice.\n",
        "    p_str, t_str = np.loadtxt(etd_url, dtype=str, encoding='unicode_escape', delimiter=', ', skiprows=2, max_rows=1)\n",
        "    \n",
        "    # Now get just the number, lose everything else.\n",
        "    for token in p_str.split():\n",
        "        try:\n",
        "            p0 = float(token)\n",
        "        except ValueError:\n",
        "            pass # if its not the number, move on\n",
        "    for token in t_str.split():\n",
        "        try:\n",
        "            t0 = float(token)\n",
        "        except ValueError:\n",
        "            pass # if its not the number, move on\n",
        "\n",
        "    return p0, t0\n",
        "\n",
        "wasp12_etd_p0, wasp12_etd_t0 = get_etd_p0_t0(wasp12_etd_url)\n",
        "print(wasp12_etd_p0, wasp12_etd_t0)"
      ],
      "execution_count": 41,
      "outputs": [
        {
          "output_type": "stream",
          "text": [
            "1.0914222 2454508.97605\n"
          ],
          "name": "stdout"
        }
      ]
    },
    {
      "cell_type": "markdown",
      "metadata": {
        "id": "FgUlQiwPkKS8"
      },
      "source": [
        "This function gets the transit data for the exoplanet from the [Exoplanet Transit Database](http://var2.astro.cz/ETD). Use this if you don't\n",
        "have any archive data of your own to use, though really any data from a recent paper will probably be better.\n",
        "\n",
        "Requires RA and Dec to convert from HJD_UTC to BJD_TDB."
      ]
    },
    {
      "cell_type": "code",
      "metadata": {
        "id": "EV8gRBY_SJ65",
        "colab": {
          "base_uri": "https://localhost:8080/",
          "height": 481
        },
        "outputId": "902d4413-5506-4698-9906-173eafc8af39"
      },
      "source": [
        "def get_etd_data(right_ascension, declination, etd_url):\n",
        "    \"\"\"Imports the data from ETD. Uses RA & Dec to convert HJD_UTC to BJD_TDB.\n",
        "    \n",
        "    Parameters\n",
        "    ----------\n",
        "    right_ascension : string\n",
        "        The right ascension in hh mm ss.ss\n",
        "    declination : string\n",
        "        The declination in dd mm ss.ss\n",
        "    etd_url : string\n",
        "        The URL of the ETD .csv datafile\n",
        "\n",
        "    Returns\n",
        "    -------\n",
        "    data : Dataframe\n",
        "        A Pandas DataFrame with bjd, mid_err, dq. These are the mid-time \n",
        "        in BJD_TDB, the uncertainty of the mid-time, and the ETD Data Quality \n",
        "        factor, where 1 is best and 5 is worst. The index is the row numbers \n",
        "        from ETD, we keep this as an arbitrary index for now.\n",
        "    \"\"\"\n",
        "\n",
        "    # Note that we keep ETD's index numbers for now, for convenience. Having\n",
        "    # tmid as the index makes manipulation of it a lot harder.\n",
        "\n",
        "    # Columns that we want from the CSV.\n",
        "    csv_headers = ['#', 'HJDmid', 'HJDmid Error', 'DQ']\n",
        "\n",
        "    # What we want to name the columns in our DataFrame.\n",
        "    cols = ['tmid', 'err', 'DQ']\n",
        "\n",
        "    # Now to import the actual transit data.\n",
        "    data = pd.read_csv(etd_url, delimiter=';', header=0, index_col=0,\n",
        "                       usecols=csv_headers, skiprows=4)\n",
        "    \n",
        "    # Set the columns to the names we want.\n",
        "    data.index.rename('number', inplace=True)  # row header\n",
        "    data.columns = cols  # columns\n",
        "\n",
        "    # Convert from the truncated HJD to the full HJD.\n",
        "    data['tmid'] = data['tmid'].apply(lambda x: x + 2400000)\n",
        "\n",
        "    # Assuming (fairly certain) ETD uses HJD_UTC, let's convert to BJD_TDB.\n",
        "    # Of course, it might be worth checking that each individual data point\n",
        "    # is actually in HJD, rather than e.g. BJD already, as ETD doesn't check it.\n",
        "    ra_dec_string = right_ascension+\" \"+declination\n",
        "    ra, dec = plc.ra_dec_string_to_deg(ra_dec_string)\n",
        "\n",
        "    # Convert to BJD_TDB; we assume uncertainty remains the same for HJD or BJD\n",
        "    bjd = np.array([])\n",
        "    for (col, value) in data['tmid'].iteritems():\n",
        "        bjd = np.append(bjd, plc.hjd_utc_to_bjd_tdb(ra, dec, value))\n",
        "\n",
        "    return data\n",
        "\n",
        "etd_data = get_etd_data(wasp12_ra, wasp12_dec, wasp12_etd_url)\n",
        "\n",
        "etd_data"
      ],
      "execution_count": 42,
      "outputs": [
        {
          "output_type": "stream",
          "text": [
            "/usr/local/lib/python3.6/dist-packages/scipy/optimize/minpack.py:808: OptimizeWarning: Covariance of the parameters could not be estimated\n",
            "  category=OptimizeWarning)\n"
          ],
          "name": "stderr"
        },
        {
          "output_type": "execute_result",
          "data": {
            "text/html": [
              "<div>\n",
              "<style scoped>\n",
              "    .dataframe tbody tr th:only-of-type {\n",
              "        vertical-align: middle;\n",
              "    }\n",
              "\n",
              "    .dataframe tbody tr th {\n",
              "        vertical-align: top;\n",
              "    }\n",
              "\n",
              "    .dataframe thead th {\n",
              "        text-align: right;\n",
              "    }\n",
              "</style>\n",
              "<table border=\"1\" class=\"dataframe\">\n",
              "  <thead>\n",
              "    <tr style=\"text-align: right;\">\n",
              "      <th></th>\n",
              "      <th>tmid</th>\n",
              "      <th>err</th>\n",
              "      <th>DQ</th>\n",
              "    </tr>\n",
              "    <tr>\n",
              "      <th>number</th>\n",
              "      <th></th>\n",
              "      <th></th>\n",
              "      <th></th>\n",
              "    </tr>\n",
              "  </thead>\n",
              "  <tbody>\n",
              "    <tr>\n",
              "      <th>262</th>\n",
              "      <td>2.459148e+06</td>\n",
              "      <td>0.00073</td>\n",
              "      <td>3</td>\n",
              "    </tr>\n",
              "    <tr>\n",
              "      <th>261</th>\n",
              "      <td>2.459089e+06</td>\n",
              "      <td>0.00136</td>\n",
              "      <td>2</td>\n",
              "    </tr>\n",
              "    <tr>\n",
              "      <th>260</th>\n",
              "      <td>2.458930e+06</td>\n",
              "      <td>0.00052</td>\n",
              "      <td>1</td>\n",
              "    </tr>\n",
              "    <tr>\n",
              "      <th>259</th>\n",
              "      <td>2.458906e+06</td>\n",
              "      <td>0.00060</td>\n",
              "      <td>2</td>\n",
              "    </tr>\n",
              "    <tr>\n",
              "      <th>258</th>\n",
              "      <td>2.458895e+06</td>\n",
              "      <td>0.00263</td>\n",
              "      <td>3</td>\n",
              "    </tr>\n",
              "    <tr>\n",
              "      <th>...</th>\n",
              "      <td>...</td>\n",
              "      <td>...</td>\n",
              "      <td>...</td>\n",
              "    </tr>\n",
              "    <tr>\n",
              "      <th>5</th>\n",
              "      <td>2.454841e+06</td>\n",
              "      <td>0.00047</td>\n",
              "      <td>1</td>\n",
              "    </tr>\n",
              "    <tr>\n",
              "      <th>4</th>\n",
              "      <td>2.454837e+06</td>\n",
              "      <td>0.00130</td>\n",
              "      <td>4</td>\n",
              "    </tr>\n",
              "    <tr>\n",
              "      <th>3</th>\n",
              "      <td>2.454837e+06</td>\n",
              "      <td>0.00156</td>\n",
              "      <td>3</td>\n",
              "    </tr>\n",
              "    <tr>\n",
              "      <th>2</th>\n",
              "      <td>2.454836e+06</td>\n",
              "      <td>0.00060</td>\n",
              "      <td>2</td>\n",
              "    </tr>\n",
              "    <tr>\n",
              "      <th>1</th>\n",
              "      <td>2.454509e+06</td>\n",
              "      <td>0.00020</td>\n",
              "      <td>1</td>\n",
              "    </tr>\n",
              "  </tbody>\n",
              "</table>\n",
              "<p>262 rows × 3 columns</p>\n",
              "</div>"
            ],
            "text/plain": [
              "                tmid      err  DQ\n",
              "number                           \n",
              "262     2.459148e+06  0.00073   3\n",
              "261     2.459089e+06  0.00136   2\n",
              "260     2.458930e+06  0.00052   1\n",
              "259     2.458906e+06  0.00060   2\n",
              "258     2.458895e+06  0.00263   3\n",
              "...              ...      ...  ..\n",
              "5       2.454841e+06  0.00047   1\n",
              "4       2.454837e+06  0.00130   4\n",
              "3       2.454837e+06  0.00156   3\n",
              "2       2.454836e+06  0.00060   2\n",
              "1       2.454509e+06  0.00020   1\n",
              "\n",
              "[262 rows x 3 columns]"
            ]
          },
          "metadata": {
            "tags": []
          },
          "execution_count": 42
        }
      ]
    },
    {
      "cell_type": "code",
      "metadata": {
        "colab": {
          "base_uri": "https://localhost:8080/"
        },
        "id": "r80gB3iJmZ5r",
        "outputId": "2e1dcc08-2c5c-4b64-bc2f-2b7f312b9846"
      },
      "source": [
        "def filter_etd_data(data, filter):\n",
        "    \"\"\"Filters ETD data to DQ<=filter. Checks uncertainty exists else deletes.\n",
        "\n",
        "    ETD has it so that the best DQ is 1, the worst DQ is 5. By checking whether\n",
        "    the transit mid-time has an associated uncertainty, we can discard the most\n",
        "    egregious datapoints that are scientifically useless for us.\n",
        "\n",
        "    Parameters\n",
        "    ----------\n",
        "    data : DataFrame\n",
        "        The dataframe of ETD data to be filtered.\n",
        "    filter : int\n",
        "        The value of DQ for which transits with DQ greater than this should be \n",
        "        discarded.\n",
        "    \n",
        "    Returns\n",
        "    -------\n",
        "    filtered_data : DataFrame\n",
        "        DataFrame of ETD data with DQ <= filter\n",
        "    \"\"\"\n",
        "\n",
        "    # Use only values where an uncertainty exists, and isn't somehow negative \n",
        "    # (e.g. debug values of -9999 making it into the dataset!)\n",
        "    filtered_data = data[data.err.notnull()]\n",
        "    filtered_data = filtered_data[filtered_data.err > 0]\n",
        "    \n",
        "    # filter by DQ\n",
        "    print(\"Before filtering:\", len(data.index), \"transits.\")\n",
        "    print(\"Filtering values with DQ filter {0}.\".format(filter))\n",
        "    filtered_data = filtered_data[filtered_data.DQ <= filter]\n",
        "    print(\"After filtering:\", len(filtered_data.index), \"transits.\")\n",
        "\n",
        "    filtered_data.drop('DQ', axis='columns', inplace=True)\n",
        "\n",
        "    return filtered_data\n",
        "\n",
        "# Setting to lower filter values is better. Set to 2 as an example.\n",
        "filtered_etd_data = filter_etd_data(etd_data, 2)"
      ],
      "execution_count": 43,
      "outputs": [
        {
          "output_type": "stream",
          "text": [
            "Before filtering: 262 transits.\n",
            "Filtering values with DQ filter 2.\n",
            "After filtering: 101 transits.\n"
          ],
          "name": "stdout"
        }
      ]
    },
    {
      "cell_type": "code",
      "metadata": {
        "colab": {
          "base_uri": "https://localhost:8080/",
          "height": 415
        },
        "id": "U31dZQsXrT_L",
        "outputId": "cb51b9f3-b321-4686-9069-303c03aac159"
      },
      "source": [
        "def add_own_data(right_ascension, declination, fpath):\n",
        "    \"\"\"Function to add your own data from csv, with format tmid, err, JD type.\n",
        "\n",
        "    JD type needs to be one of \"HJD_UTC\", \"HJD_TDB\", \"BJD_UTC\", or \"BJD_TDB\". If\n",
        "    necessary, these will be converted to BJD_TDB.\n",
        "\n",
        "    Parameters\n",
        "    ----------\n",
        "    right_ascension : string\n",
        "        The right ascension in hh mm ss.ss\n",
        "    declination : string\n",
        "        The declination in dd mm ss.ss\n",
        "    fpath : string\n",
        "        The path to your .csv datafile, local path or URL\n",
        "\n",
        "    Returns\n",
        "    -------\n",
        "\n",
        "    data : pandas DataFrame \n",
        "        Pandas Dataframe with bjd, mid_err. These are the mid-time in BJD_TDB,\n",
        "        and the uncertainty of said mid-time. The index is an arbitrary index\n",
        "        for now, automatically generated.\n",
        "    \"\"\"\n",
        "\n",
        "    # import all the data as NumPy arrays. We'll make a df at the end.\n",
        "    # genfromtxt has a bug/\"feature\" at not unpacking if dtype=None (where it \n",
        "    # guesses the dtype), so we have to import all of itas strings, then change \n",
        "    # mid and err to floats afterwards.\n",
        "    mid, err, jd_type = np.genfromtxt(fpath, unpack=True, dtype=str, skip_header=1, encoding='unicode_escape', delimiter=',', missing_values='')\n",
        "    mid, err = mid.astype(float), err.astype(float)\n",
        "\n",
        "    # Prepare for BJD conversion\n",
        "    bjd=np.array([])\n",
        "    ra_dec_string = right_ascension+\" \"+declination\n",
        "    ra, dec = plc.ra_dec_string_to_deg(ra_dec_string)\n",
        "\n",
        "    # Check if we need to convert to BJD\n",
        "    for i, jd in enumerate(mid):\n",
        "        if jd_type[i] == \"BJD_TDB\":\n",
        "            bjd = np.append(bjd, jd)\n",
        "        elif jd_type[i] == \"HJD_UTC\":\n",
        "            bjd = np.append(bjd, plc.hjd_utc_to_bjd_tdb(ra, dec, jd))\n",
        "        elif jd_type[i] == \"HJD_TDB\":\n",
        "            bjd = np.append(bjd, plc.hjd_tdb_to_bjd_tdb(ra, dec, jd))\n",
        "        elif jd_type[i] == \"BJD_UTC\":\n",
        "            bjd = np.append(bjd, plc.bjd_utc_to_bjd_tdb(ra, dec, jd))\n",
        "        else:\n",
        "            # i+2 as csv will count from 1, and +1 for the header\n",
        "            raise ValueError(\"Type needs to be \\'BJD_TDB\\', \\'HJD_UTC\\', \\'HJD_TDB\\' or \\`BJD_UTC\\`. Check csv row\",i+2)\n",
        "\n",
        "    # Make a DataFrame for our NumPy arrays, set the columns\n",
        "    own_data = pd.DataFrame(data=(np.array([bjd,err]).T))\n",
        "    own_data.columns = ['tmid', 'err']\n",
        "\n",
        "    return own_data\n",
        "\n",
        "\n",
        "own_data = add_own_data(wasp12_ra, wasp12_dec, 'example_data_WASP12b.csv')\n",
        "own_data"
      ],
      "execution_count": 44,
      "outputs": [
        {
          "output_type": "execute_result",
          "data": {
            "text/html": [
              "<div>\n",
              "<style scoped>\n",
              "    .dataframe tbody tr th:only-of-type {\n",
              "        vertical-align: middle;\n",
              "    }\n",
              "\n",
              "    .dataframe tbody tr th {\n",
              "        vertical-align: top;\n",
              "    }\n",
              "\n",
              "    .dataframe thead th {\n",
              "        text-align: right;\n",
              "    }\n",
              "</style>\n",
              "<table border=\"1\" class=\"dataframe\">\n",
              "  <thead>\n",
              "    <tr style=\"text-align: right;\">\n",
              "      <th></th>\n",
              "      <th>tmid</th>\n",
              "      <th>err</th>\n",
              "    </tr>\n",
              "  </thead>\n",
              "  <tbody>\n",
              "    <tr>\n",
              "      <th>0</th>\n",
              "      <td>2454515.525</td>\n",
              "      <td>0.00043</td>\n",
              "    </tr>\n",
              "    <tr>\n",
              "      <th>1</th>\n",
              "      <td>2454836.403</td>\n",
              "      <td>0.00028</td>\n",
              "    </tr>\n",
              "    <tr>\n",
              "      <th>2</th>\n",
              "      <td>2454840.769</td>\n",
              "      <td>0.00062</td>\n",
              "    </tr>\n",
              "    <tr>\n",
              "      <th>3</th>\n",
              "      <td>2455140.910</td>\n",
              "      <td>0.00042</td>\n",
              "    </tr>\n",
              "    <tr>\n",
              "      <th>4</th>\n",
              "      <td>2455147.459</td>\n",
              "      <td>0.00043</td>\n",
              "    </tr>\n",
              "    <tr>\n",
              "      <th>...</th>\n",
              "      <td>...</td>\n",
              "      <td>...</td>\n",
              "    </tr>\n",
              "    <tr>\n",
              "      <th>96</th>\n",
              "      <td>2457765.775</td>\n",
              "      <td>0.00028</td>\n",
              "    </tr>\n",
              "    <tr>\n",
              "      <th>97</th>\n",
              "      <td>2457766.866</td>\n",
              "      <td>0.00039</td>\n",
              "    </tr>\n",
              "    <tr>\n",
              "      <th>98</th>\n",
              "      <td>2457776.689</td>\n",
              "      <td>0.00029</td>\n",
              "    </tr>\n",
              "    <tr>\n",
              "      <th>99</th>\n",
              "      <td>2457788.695</td>\n",
              "      <td>0.00048</td>\n",
              "    </tr>\n",
              "    <tr>\n",
              "      <th>100</th>\n",
              "      <td>2457800.700</td>\n",
              "      <td>0.00032</td>\n",
              "    </tr>\n",
              "  </tbody>\n",
              "</table>\n",
              "<p>101 rows × 2 columns</p>\n",
              "</div>"
            ],
            "text/plain": [
              "            tmid      err\n",
              "0    2454515.525  0.00043\n",
              "1    2454836.403  0.00028\n",
              "2    2454840.769  0.00062\n",
              "3    2455140.910  0.00042\n",
              "4    2455147.459  0.00043\n",
              "..           ...      ...\n",
              "96   2457765.775  0.00028\n",
              "97   2457766.866  0.00039\n",
              "98   2457776.689  0.00029\n",
              "99   2457788.695  0.00048\n",
              "100  2457800.700  0.00032\n",
              "\n",
              "[101 rows x 2 columns]"
            ]
          },
          "metadata": {
            "tags": []
          },
          "execution_count": 44
        }
      ]
    },
    {
      "cell_type": "markdown",
      "metadata": {
        "id": "4zZzoMNP2dZx"
      },
      "source": [
        "If using both own and ETD data, join the two together."
      ]
    },
    {
      "cell_type": "code",
      "metadata": {
        "colab": {
          "base_uri": "https://localhost:8080/",
          "height": 415
        },
        "id": "gkzWyQmG-Mqy",
        "outputId": "8d83a27b-0900-4ba3-dbf8-39c95352054b"
      },
      "source": [
        "data = pd.concat([filtered_etd_data, own_data])\n",
        "data"
      ],
      "execution_count": 45,
      "outputs": [
        {
          "output_type": "execute_result",
          "data": {
            "text/html": [
              "<div>\n",
              "<style scoped>\n",
              "    .dataframe tbody tr th:only-of-type {\n",
              "        vertical-align: middle;\n",
              "    }\n",
              "\n",
              "    .dataframe tbody tr th {\n",
              "        vertical-align: top;\n",
              "    }\n",
              "\n",
              "    .dataframe thead th {\n",
              "        text-align: right;\n",
              "    }\n",
              "</style>\n",
              "<table border=\"1\" class=\"dataframe\">\n",
              "  <thead>\n",
              "    <tr style=\"text-align: right;\">\n",
              "      <th></th>\n",
              "      <th>tmid</th>\n",
              "      <th>err</th>\n",
              "    </tr>\n",
              "  </thead>\n",
              "  <tbody>\n",
              "    <tr>\n",
              "      <th>261</th>\n",
              "      <td>2.459089e+06</td>\n",
              "      <td>0.00136</td>\n",
              "    </tr>\n",
              "    <tr>\n",
              "      <th>260</th>\n",
              "      <td>2.458930e+06</td>\n",
              "      <td>0.00052</td>\n",
              "    </tr>\n",
              "    <tr>\n",
              "      <th>259</th>\n",
              "      <td>2.458906e+06</td>\n",
              "      <td>0.00060</td>\n",
              "    </tr>\n",
              "    <tr>\n",
              "      <th>257</th>\n",
              "      <td>2.458884e+06</td>\n",
              "      <td>0.00070</td>\n",
              "    </tr>\n",
              "    <tr>\n",
              "      <th>256</th>\n",
              "      <td>2.458883e+06</td>\n",
              "      <td>0.00054</td>\n",
              "    </tr>\n",
              "    <tr>\n",
              "      <th>...</th>\n",
              "      <td>...</td>\n",
              "      <td>...</td>\n",
              "    </tr>\n",
              "    <tr>\n",
              "      <th>96</th>\n",
              "      <td>2.457766e+06</td>\n",
              "      <td>0.00028</td>\n",
              "    </tr>\n",
              "    <tr>\n",
              "      <th>97</th>\n",
              "      <td>2.457767e+06</td>\n",
              "      <td>0.00039</td>\n",
              "    </tr>\n",
              "    <tr>\n",
              "      <th>98</th>\n",
              "      <td>2.457777e+06</td>\n",
              "      <td>0.00029</td>\n",
              "    </tr>\n",
              "    <tr>\n",
              "      <th>99</th>\n",
              "      <td>2.457789e+06</td>\n",
              "      <td>0.00048</td>\n",
              "    </tr>\n",
              "    <tr>\n",
              "      <th>100</th>\n",
              "      <td>2.457801e+06</td>\n",
              "      <td>0.00032</td>\n",
              "    </tr>\n",
              "  </tbody>\n",
              "</table>\n",
              "<p>202 rows × 2 columns</p>\n",
              "</div>"
            ],
            "text/plain": [
              "             tmid      err\n",
              "261  2.459089e+06  0.00136\n",
              "260  2.458930e+06  0.00052\n",
              "259  2.458906e+06  0.00060\n",
              "257  2.458884e+06  0.00070\n",
              "256  2.458883e+06  0.00054\n",
              "..            ...      ...\n",
              "96   2.457766e+06  0.00028\n",
              "97   2.457767e+06  0.00039\n",
              "98   2.457777e+06  0.00029\n",
              "99   2.457789e+06  0.00048\n",
              "100  2.457801e+06  0.00032\n",
              "\n",
              "[202 rows x 2 columns]"
            ]
          },
          "metadata": {
            "tags": []
          },
          "execution_count": 45
        }
      ]
    },
    {
      "cell_type": "code",
      "metadata": {
        "colab": {
          "base_uri": "https://localhost:8080/",
          "height": 415
        },
        "id": "YKwYIlxsKzhL",
        "outputId": "447f6e2e-6a17-4635-b775-ea2a2e8c45ce"
      },
      "source": [
        "def epoch_calculator(df, p0, t0):\n",
        "    \"\"\"Calculates epochs for a df. Needs a P0 & T0 (or use ETD & earliest tmid). \n",
        "\n",
        "    Parameters\n",
        "    ----------\n",
        "    df : pandas DataFrame\n",
        "        DataFrame of tmids and uncertainties\n",
        "    p0 : float\n",
        "        Period of exoplanet orbit in days\n",
        "    t0 : float\n",
        "        Reference mid-time for epoch 0, in BJD_TDB\n",
        "    \n",
        "    Returns\n",
        "    -------\n",
        "    sorted_df : pandas DataFrame \n",
        "        DataFrame with new epoch column, sorted by tmid.\n",
        "\n",
        "    Raises\n",
        "    ------\n",
        "    ValueError\n",
        "        If P0 or T0 are negative.\n",
        "\n",
        "    Notes\n",
        "    -----\n",
        "        Supply a P0 and T0. If you have your own values, e.g. from a paper, pass\n",
        "        these in. Else, consider using either ETD's values with get_etd_p0_t0(),\n",
        "        or use the period provided by EOC, and use one of your tmid values; \n",
        "        earliest or median are good choices to see trends clearly, use \n",
        "        df.tmid.min() or df.tmid.median() to obtain.\n",
        "\n",
        "    \"\"\"\n",
        "    if (p0<=0):\n",
        "        raise ValueError(\"Period cannot be negative\")\n",
        "\n",
        "    if (t0<=0):\n",
        "        raise ValueError(\"Mid-times cannot be negative\")\n",
        "\n",
        "    # Calculate the epoch system, assume closest rounding is correct via np.rint\n",
        "    # Epoch is calculated assuming a constant-period stable circular orbit.\n",
        "    df['epoch'] = data['tmid'].apply(lambda x: np.rint((x-t0)/p0) )\n",
        "    df['epoch'] = pd.Series(df['epoch'], dtype=int)  # make sure it's integer\n",
        "\n",
        "    # sort by tmid, and replace the index with sequential numbers\n",
        "    sorted_df = df.sort_values('tmid', ignore_index=True)\n",
        "    return sorted_df\n",
        "    \n",
        "data = epoch_calculator(data, wasp12_etd_p0, wasp12_etd_t0)\n",
        "data"
      ],
      "execution_count": 46,
      "outputs": [
        {
          "output_type": "execute_result",
          "data": {
            "text/html": [
              "<div>\n",
              "<style scoped>\n",
              "    .dataframe tbody tr th:only-of-type {\n",
              "        vertical-align: middle;\n",
              "    }\n",
              "\n",
              "    .dataframe tbody tr th {\n",
              "        vertical-align: top;\n",
              "    }\n",
              "\n",
              "    .dataframe thead th {\n",
              "        text-align: right;\n",
              "    }\n",
              "</style>\n",
              "<table border=\"1\" class=\"dataframe\">\n",
              "  <thead>\n",
              "    <tr style=\"text-align: right;\">\n",
              "      <th></th>\n",
              "      <th>tmid</th>\n",
              "      <th>err</th>\n",
              "      <th>epoch</th>\n",
              "    </tr>\n",
              "  </thead>\n",
              "  <tbody>\n",
              "    <tr>\n",
              "      <th>0</th>\n",
              "      <td>2.454509e+06</td>\n",
              "      <td>0.00020</td>\n",
              "      <td>0</td>\n",
              "    </tr>\n",
              "    <tr>\n",
              "      <th>1</th>\n",
              "      <td>2.454516e+06</td>\n",
              "      <td>0.00043</td>\n",
              "      <td>6</td>\n",
              "    </tr>\n",
              "    <tr>\n",
              "      <th>2</th>\n",
              "      <td>2.454836e+06</td>\n",
              "      <td>0.00060</td>\n",
              "      <td>300</td>\n",
              "    </tr>\n",
              "    <tr>\n",
              "      <th>3</th>\n",
              "      <td>2.454836e+06</td>\n",
              "      <td>0.00028</td>\n",
              "      <td>300</td>\n",
              "    </tr>\n",
              "    <tr>\n",
              "      <th>4</th>\n",
              "      <td>2.454841e+06</td>\n",
              "      <td>0.00047</td>\n",
              "      <td>304</td>\n",
              "    </tr>\n",
              "    <tr>\n",
              "      <th>...</th>\n",
              "      <td>...</td>\n",
              "      <td>...</td>\n",
              "      <td>...</td>\n",
              "    </tr>\n",
              "    <tr>\n",
              "      <th>197</th>\n",
              "      <td>2.458883e+06</td>\n",
              "      <td>0.00054</td>\n",
              "      <td>4008</td>\n",
              "    </tr>\n",
              "    <tr>\n",
              "      <th>198</th>\n",
              "      <td>2.458884e+06</td>\n",
              "      <td>0.00070</td>\n",
              "      <td>4009</td>\n",
              "    </tr>\n",
              "    <tr>\n",
              "      <th>199</th>\n",
              "      <td>2.458906e+06</td>\n",
              "      <td>0.00060</td>\n",
              "      <td>4029</td>\n",
              "    </tr>\n",
              "    <tr>\n",
              "      <th>200</th>\n",
              "      <td>2.458930e+06</td>\n",
              "      <td>0.00052</td>\n",
              "      <td>4051</td>\n",
              "    </tr>\n",
              "    <tr>\n",
              "      <th>201</th>\n",
              "      <td>2.459089e+06</td>\n",
              "      <td>0.00136</td>\n",
              "      <td>4196</td>\n",
              "    </tr>\n",
              "  </tbody>\n",
              "</table>\n",
              "<p>202 rows × 3 columns</p>\n",
              "</div>"
            ],
            "text/plain": [
              "             tmid      err  epoch\n",
              "0    2.454509e+06  0.00020      0\n",
              "1    2.454516e+06  0.00043      6\n",
              "2    2.454836e+06  0.00060    300\n",
              "3    2.454836e+06  0.00028    300\n",
              "4    2.454841e+06  0.00047    304\n",
              "..            ...      ...    ...\n",
              "197  2.458883e+06  0.00054   4008\n",
              "198  2.458884e+06  0.00070   4009\n",
              "199  2.458906e+06  0.00060   4029\n",
              "200  2.458930e+06  0.00052   4051\n",
              "201  2.459089e+06  0.00136   4196\n",
              "\n",
              "[202 rows x 3 columns]"
            ]
          },
          "metadata": {
            "tags": []
          },
          "execution_count": 46
        }
      ]
    },
    {
      "cell_type": "markdown",
      "metadata": {
        "id": "E5m4b5Mr3BkI"
      },
      "source": [
        "## Fitting models\n",
        "\n",
        "### 1. Linear: Stable orbit, constant period\n",
        "\n",
        "If this is the case, and the exoplanet has no orbital decay, then we expect that using the first formula $t = t_0 + PE$ should have no difference from our recorded mid-times. We fit the linear model to the data using `curve_fit`, and then we generate an O-C graph of this scenario:"
      ]
    },
    {
      "cell_type": "code",
      "metadata": {
        "id": "wMkRxFBgj5Tu"
      },
      "source": [
        "def linear_curve(E,t0,P):\n",
        "    '''Formula for circular orbit with constant period.\n",
        "\n",
        "    Parameters\n",
        "    ----------\n",
        "    E : int\n",
        "        The epoch for this mid-time\n",
        "    t0 : float\n",
        "        Reference mid-time for epoch 0, in BJD_TDB\n",
        "    P : float\n",
        "        Orbital period in days\n",
        "\n",
        "    Returns\n",
        "    -------\n",
        "    tmid : float\n",
        "        the tmid for a constant period circular orbit, at that epoch\n",
        "    '''\n",
        "    return t0+(P*E)"
      ],
      "execution_count": 47,
      "outputs": []
    },
    {
      "cell_type": "markdown",
      "metadata": {
        "id": "Wi1D-SWg_CUt"
      },
      "source": [
        "To get the parameters that best fit the data to the function, we used the Levenberg-Marquadt algorithm in `scipy.curve_fit`:"
      ]
    },
    {
      "cell_type": "code",
      "metadata": {
        "colab": {
          "base_uri": "https://localhost:8080/"
        },
        "id": "-Gmy8W7c-q6S",
        "outputId": "84ec30bc-2d53-4598-a04a-a1e8e990de73"
      },
      "source": [
        "param_guess = [wasp12_etd_t0, wasp12_etd_p0]\n",
        "pars_linear, cov_linear = curve_fit(linear_curve, data.epoch, data.tmid, param_guess, method='lm')\n",
        "\n",
        "# so this should be the t_0 and P_guess that minimise chi-sq\n",
        "t0_linear, P_linear = pars_linear\n",
        "\n",
        "print(pars_linear)\n",
        "print(cov_linear)"
      ],
      "execution_count": 48,
      "outputs": [
        {
          "output_type": "stream",
          "text": [
            "[2.45450898e+06 1.09141981e+00]\n",
            "[[ 8.90403998e-08 -3.62457310e-11]\n",
            " [-3.62457310e-11  1.83687456e-14]]\n"
          ],
          "name": "stdout"
        }
      ]
    },
    {
      "cell_type": "code",
      "metadata": {
        "colab": {
          "base_uri": "https://localhost:8080/",
          "height": 297
        },
        "id": "sinE-yWL3rhf",
        "outputId": "afca1108-9d3a-4bbd-e125-ed16f5bf6763"
      },
      "source": [
        "plt.figure()\n",
        "\n",
        "# Use the formula to generate the expected tmid at each epoch we have observations at\n",
        "tmid_const = data['epoch'].apply(lambda E: linear_curve(E, t0_linear, P_linear))\n",
        "\n",
        "# O-C between our observed tmids and these expected tmids\n",
        "OC = pd.Series(data=(data['tmid'] - tmid_const))\n",
        "\n",
        "plt.errorbar(data['epoch'], OC, xerr=0, yerr=data['err'], linestyle='None', marker='.', mfc=\"w\", mec=\"b\")\n",
        "plt.axhline(y=0, xmin=0.0, xmax=1.0, color='black', linestyle='dashed', linewidth=0.5)\n",
        "plt.ylabel('Deviation of BJD$_{TDB} (days)$')\n",
        "plt.xlabel('Epoch')\n",
        "plt.title('O-C between observed $t_{mid}$ and predicted constant-P $t_{mid}$')\n",
        "plt.show()"
      ],
      "execution_count": 49,
      "outputs": [
        {
          "output_type": "display_data",
          "data": {
            "image/png": "[encoded data removed]",
            "text/plain": [
              "<Figure size 432x288 with 1 Axes>"
            ]
          },
          "metadata": {
            "tags": [],
            "needs_background": "light"
          }
        }
      ]
    },
    {
      "cell_type": "markdown",
      "metadata": {
        "id": "-ylgXUZLVU0P"
      },
      "source": [
        "We can see some outliers, so we will sigma-clip the O-C, and use the index of the resulting Series to clip our DataFrame."
      ]
    },
    {
      "cell_type": "code",
      "metadata": {
        "colab": {
          "base_uri": "https://localhost:8080/",
          "height": 297
        },
        "id": "jCtY3b8BViNz",
        "outputId": "05bc255a-d0f2-4164-a364-ea4189accd1d"
      },
      "source": [
        "# Sigma-clip the OC Series\n",
        "OC = OC[((OC-OC.mean()).abs() <= 1*(OC.std()))]\n",
        "\n",
        "# Apply the index to the main DataFrame\n",
        "data = data.loc[OC.index]\n",
        "\n",
        "plt.errorbar(data['epoch'], OC, xerr=0, yerr=data['err'], linestyle='None', marker='.', mfc=\"w\", mec=\"b\")\n",
        "plt.axhline(y=0, xmin=0.0, xmax=1.0, color='black', linestyle='dashed', linewidth=0.5)\n",
        "plt.ylabel('Deviation of BJD$_{TDB} (days)$')\n",
        "plt.xlabel('Epoch')\n",
        "plt.title('O-C between observed $t_{mid}$ and predicted constant-P $t_{mid}$')\n",
        "plt.show()"
      ],
      "execution_count": 50,
      "outputs": [
        {
          "output_type": "display_data",
          "data": {
            "image/png": "[encoded data removed]",
            "text/plain": [
              "<Figure size 432x288 with 1 Axes>"
            ]
          },
          "metadata": {
            "tags": [],
            "needs_background": "light"
          }
        }
      ]
    },
    {
      "cell_type": "markdown",
      "metadata": {
        "id": "dU3ut-l_YSfe"
      },
      "source": [
        "In this case, we can see that it isn't a straight line, it follows a trend, that could be descibed as possibly quadratic (tidal orbital decay) or the beginning of a sinusoidal curve (apsidal precession)."
      ]
    },
    {
      "cell_type": "markdown",
      "metadata": {
        "collapsed": false,
        "pycharm": {
          "name": "#%% md\n"
        },
        "id": "3L6BNtPxR1-6"
      },
      "source": [
        "## Statistics functions\n",
        "\n",
        "These functions are for the $\\chi^2$ comparison. I sincerely doubt that I haven't accidentally reinvented the wheel - functions for this probably already exist in something like SciPy. However, it's so simple, I've not exactly wasted hours on these.\n",
        "\n",
        "Equations are from \"Measurements and Their Uncertainties: A Practical Guide to Modern Error Analysis: Hughes and\n",
        "Hase 2010\".\n",
        "\n",
        "$$ \\chi^2 = \\sum_i{\\frac{y_i-y(x_i)}{\\alpha_i^2}}$$\n",
        "\n",
        "$\\nu$ is the degrees of freedom: the number of datapoints minus the number of fitted parameters. We divide $\\chi^2$ by\n",
        " $\\nu$ to obtain the reduced chi-squared, as follows:\n",
        "\n",
        "$$ \\chi^2_\\text{reduced} = \\frac{\\chi^2}{\\nu} $$"
      ]
    },
    {
      "cell_type": "code",
      "metadata": {
        "pycharm": {
          "name": "#%%\n"
        },
        "id": "iRSRG4WAR1-6"
      },
      "source": [
        "def chi_squared(y_i,yx,alpha):\n",
        "    \"\"\"Calculates the unreduced chi squared.\n",
        "    Inputs:\n",
        "    - y_i, the array of observed y value (the y_i in the formula)\n",
        "    - yx, the array of y values of the fitted line (the y(x) in the formula )\n",
        "    - alpha, array of error in y, in the same units as y\n",
        "    Outputs:\n",
        "    - chi2, the unreduced chi squared value\n",
        "    \"\"\"\n",
        "\n",
        "    chi2=0\n",
        "    for i,y in enumerate(y_i):\n",
        "        chi2 += ((y-yx[i])**2) / (alpha[i]**2)\n",
        "    return chi2\n",
        "\n",
        "def reduced_chi_squared(y,yx,alpha,m):\n",
        "    \"\"\"Calculates the reduced chi squared from the raw data: just chisq divided by degrees of freedom\n",
        "    Degree of freedom is just number of observations n - number of fitted parameters m\n",
        "    where n is just the number of y (or y(x) or x) values\n",
        "    Inputs:\n",
        "    - y, array of actual observed y value (the y_i in the formula)\n",
        "    - yx, array of y value of the fitted line (the y(x) in the formula )\n",
        "    - alpha, array of error in y, in the same units as y\n",
        "    - m, the number of fitted parameters.\n",
        "    Outputs:\n",
        "    - chi2, the unreduced chi squared value\n",
        "    \"\"\"\n",
        "    n = len(y) # number of observations/datapoints\n",
        "    dof = n-m # degree of freedom, m is fitted params\n",
        "    chi2 = chi_squared(y,yx,alpha) # get the unreduced chi squared\n",
        "    reduced_chi2 = chi2/dof # reduce it\n",
        "    return reduced_chi2"
      ],
      "execution_count": 51,
      "outputs": []
    },
    {
      "cell_type": "code",
      "metadata": {
        "id": "U-R3tLr7285n"
      },
      "source": [
        ""
      ],
      "execution_count": 51,
      "outputs": []
    }
  ]
}