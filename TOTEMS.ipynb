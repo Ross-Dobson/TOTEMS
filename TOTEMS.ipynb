{
 "cells": [
  {
   "cell_type": "markdown",
   "source": [
    "# TOTEMS - Tidal Orbital decay Timing Extrapolation & Modelling Software"
   ],
   "metadata": {
    "collapsed": false,
    "pycharm": {
     "name": "#%% md\n"
    }
   }
  },
  {
   "cell_type": "code",
   "execution_count": 1,
   "outputs": [],
   "source": [
    "import numpy as np\n",
    "from tqdm import tqdm\n",
    "import matplotlib.pyplot as plt\n",
    "\n",
    "#Import curve fitting (Which is what we need for tidal decay)\n",
    "from scipy.optimize import curve_fit\n",
    "\n",
    "#Import pylightcurve, used for BJD HJD conversions - thanks to Angelos Tsiaras\n",
    "import pylightcurve as plc"
   ],
   "metadata": {
    "collapsed": false,
    "pycharm": {
     "name": "#%%\n"
    }
   }
  },
  {
   "cell_type": "code",
   "source": [
    "%matplotlib notebook\n",
    "# if this isn't in a separate cell, sometimes doesn't work right\n",
    "# magic commands are weird, to say the least.\n",
    "\n",
    "\n"
   ],
   "metadata": {
    "collapsed": false,
    "pycharm": {
     "name": "#%%\n"
    }
   },
   "execution_count": 2,
   "outputs": []
  },
  {
   "cell_type": "markdown",
   "source": [
    "First function: gets the relevant data for the exoplanet from the [http://var2.astro.cz/ETD/](Exoplanet Transit\n",
    "Database). Use this if you don't\n",
    "have any archive data of your own to use, though really any data from a recent paper will probably be better."
   ],
   "metadata": {
    "collapsed": false,
    "pycharm": {
     "name": "#%% md\n"
    }
   }
  },
  {
   "cell_type": "code",
   "execution_count": 3,
   "outputs": [],
   "source": [
    "def get_etd_data(ra, dec, url):\n",
    "    \"\"\"Imports the archive data from ETD. Uses the RA & Dec of a target to convert HJD_UTC to BJD_TDB.\n",
    "    Inputs:\n",
    "    - ra, the RA in hh mm ss.ss\n",
    "    - dec, the Declination in hh mm ss.ss\n",
    "    - url, the URL of datafile\n",
    "    Outputs:\n",
    "    - no, the number of the entry in ETD's list\n",
    "    - bjd, t_mid converted to BJD_TDB\n",
    "    - mid_err, the uncertainty in t_mid\n",
    "    - epoch, the epoch number for the transit based on the t_0 and period on ETD.\n",
    "    - dq, ETD's Data Quality measurement. 1 is best, 5 is worst.\n",
    "    \"\"\"\n",
    "    # Get the period and mid-time @ epoch 0 automatically from ETD\n",
    "    # Yes, this is absolutely appalling. I am open to suggestions on better ways to do this!\n",
    "\n",
    "    p_str, t_str = np.loadtxt(url, dtype=str, encoding='unicode_escape', delimiter=', ', skiprows=2, max_rows=1)\n",
    "\n",
    "    for possibility in p_str.split():\n",
    "        try:\n",
    "            str(float(possibility))\n",
    "            p_0 = possibility\n",
    "        except ValueError:\n",
    "            pass # if its not the number, move on\n",
    "\n",
    "    for possibility in t_str.split():\n",
    "        try:\n",
    "            str(float(possibility))\n",
    "            t_0 = possibility\n",
    "        except ValueError:\n",
    "            pass # if its not the number, move on\n",
    "\n",
    "    # Now for the actual transit data: use genfromtxt as there may be missing values.\n",
    "    # Import the data into a series of arrays using numpy loadtxt. Note we skip the first 5 rows and only use\n",
    "    # certain columns, because there's lots of extra stuff we aren't using\n",
    "    no,hjd,mid_err,epoch,dq = np.genfromtxt(url, encoding='unicode_escape', delimiter=';', skip_header=5, missing_values='', filling_values=-1, usecols=(0,1,2,3,10), unpack=True)\n",
    "\n",
    "    # convert from the truncated HJD to the full HJD\n",
    "    hjd = hjd + 2400000\n",
    "\n",
    "    # assuming ETD uses HJD_UTC, convert to BJD_TDB.\n",
    "    # of course, it might be worth checking that each individual data point specified is ACTUALLY HJD,\n",
    "    # as I don't think ETD vets for those kinds of mistakes\n",
    "\n",
    "    ra_dec_string = ra+\" \"+dec #concatenate into one string for the hh mm ss.ss to deg convert function\n",
    "    ra, dec = plc.ra_dec_string_to_deg(ra_dec_string) # convert from hh mm ss.ss to degrees\n",
    "\n",
    "    # Convert to BJD_TDB. N.B. we assume uncertainty remains the same.\n",
    "    bjd = [] # make a blank array to store BJD in\n",
    "    for val in tqdm(hjd):\n",
    "        bjd.append(plc.hjd_utc_to_bjd_tdb(ra, dec, val)) # do the actual converting\n",
    "\n",
    "    # return the data arrays. Notice this means you end up with five arrays, where each of the five elements is an\n",
    "    # array for number, BJD, uncertainty, epoch, DQ. Also, two constants, the period and time at epoch 0.\n",
    "    # Yes, this is a dreadful situation to be in. A high priority todo is to rewrite these into \"datapoint\" objects\n",
    "    # where each object stores a mid-transit time and uncertainty, its number, epoch, and DQ.\n",
    "    return no, bjd, mid_err,epoch,dq, p_0, t_0"
   ],
   "metadata": {
    "collapsed": false,
    "pycharm": {
     "name": "#%%\n"
    }
   }
  },
  {
   "cell_type": "code",
   "execution_count": 4,
   "outputs": [],
   "source": [
    "def filter_etd_data(no, bjd, mid_err, epoch, dq, filter_dq):\n",
    "    \"\"\"Filters ETD data. Checks uncertainty exists. Returns only datapoints with DQ equal or better than specified\n",
    "    value. N.B. DQ 1 is best, 5 is worst.\n",
    "    Inputs:\n",
    "    - no\n",
    "    - bjd\n",
    "    - mid_err\n",
    "    - epoch\n",
    "    - dq\n",
    "    - filter_dq\n",
    "    Outputs:\n",
    "    - filteredData, the filtered data array (of arrays). Contains three arrays: BJD mid-time, uncertainty, and epoch.\n",
    "    \"\"\"\n",
    "\n",
    "    # Let's filter for \"good\" data. I don't trust data without a tmid uncertainty, so check it exists/isn't 0\n",
    "    good_data=[[],[],[],[],[]]\n",
    "\n",
    "    for i in tqdm(range(0, len(no))):\n",
    "        if mid_err[i] > 0:\n",
    "            good_data[0].append(no[i])\n",
    "            good_data[1].append(bjd[i])\n",
    "            good_data[2].append(mid_err[i])\n",
    "            good_data[3].append(epoch[i])\n",
    "            good_data[4].append(dq[i])\n",
    "\n",
    "    # the plan: one array, contains three arrays - these three arrays are for mid, mid_err, epoch\n",
    "    # we don't bother preserving no., it was just imported to be used basically as a debugging tool\n",
    "    # and dq is pointless once we've filtered. This also makes the addition of non-ETD data far easier\n",
    "    filtered_data = [[],[],[]]\n",
    "\n",
    "    for i in tqdm(range(0, len(good_data[1]))): # for each entry in the data\n",
    "        if good_data[4][i] <= filter_dq: # check the DQ vs the specified DQ argument. If better...\n",
    "\n",
    "            # ...then add the data to each of the three arrays in filteredData that we care about\n",
    "            filtered_data[0].append(good_data[1][i])\n",
    "            filtered_data[1].append(good_data[2][i])\n",
    "            filtered_data[2].append(good_data[3][i])\n",
    "\n",
    "    return filtered_data # return the data array containing only the transits that's been filtered by DQ"
   ],
   "metadata": {
    "collapsed": false,
    "pycharm": {
     "name": "#%%\n"
    }
   }
  },
  {
   "cell_type": "markdown",
   "source": [
    "## Statistics functions\n",
    "\n",
    "These functions are for the $\\chi^2$ comparison. I sincerely doubt that I haven't accidentally reinvented the wheel - functions for this probably already exist. However, it's so simple, I've not exactly wasted hours on these.\n",
    "\n",
    "Equations are from \"Measurements and Their Uncertainties: A Practical Guide to Modern Error Analysis: Hughes and\n",
    "Hase 2010\".\n",
    "\n",
    "$$ \\chi^2 = \\sum_i{\\frac{y_i-y(x_i)}{\\alpha_i^2}}$$\n",
    "\n",
    "$\\nu$ is the degrees of freedom: the number of datapoints minus the number of fitted parameters. We divide $\\chi^2$ by\n",
    " $\\nu$ to obtain the reduced chi-squared, as follows:\n",
    "\n",
    "$$ \\chi^2_\\text{reduced} = \\frac{\\chi^2}{\\nu} $$"
   ],
   "metadata": {
    "collapsed": false,
    "pycharm": {
     "name": "#%% md\n"
    }
   }
  },
  {
   "cell_type": "code",
   "execution_count": 5,
   "outputs": [],
   "source": [
    "def chi_squared(y,yx,alpha):\n",
    "    \"\"\"Calculates the unreduced chi squared.\n",
    "    Inputs:\n",
    "    - y, the actual observed y value (the y_i in the formula)\n",
    "    - yx, the y value of the fitted line (the y(x) in the formula )\n",
    "    - alpha, the error bar for y, in the same units as y\n",
    "    Outputs:\n",
    "    - chi2, the unreduced chi squared value\n",
    "    \"\"\"\n",
    "\n",
    "    chi2=0\n",
    "    for i in tqdm(range(0,len(y))):\n",
    "        chi2 += ((y[i]-yx[i])**2) / (alpha[i]**2)\n",
    "    return chi2\n",
    "\n",
    "def reduced_chi_squared(y,yx,alpha,m):\n",
    "    \"\"\"Calculates the reduced chi squared from the raw data: just chisq divided by degrees of freedom\n",
    "    Degree of freedom is just number of observations n - number of fitted parameters m\n",
    "    where n is just the number of y (or y(x) or x) values\n",
    "    Inputs:\n",
    "    - y, the actual observed y value (the y_i in the formula)\n",
    "    - yx, the y value of the fitted line (the y(x) in the formula )\n",
    "    - alpha, the error bar for y, in the same units as y\n",
    "    - m, the number of fitted parameters.\n",
    "    Outputs:\n",
    "    - chi2, the unreduced chi squared value\n",
    "    \"\"\"\n",
    "    n = len(y) # number of observations/datapoints\n",
    "    dof = n-m # degree of freedom, m is fitted params\n",
    "    chi2 = chi_squared(y,yx,alpha) # get the unreduced chi squared\n",
    "    reduced_chi2 = chi2/dof # reduce it\n",
    "    return reduced_chi2"
   ],
   "metadata": {
    "collapsed": false,
    "pycharm": {
     "name": "#%%\n"
    }
   }
  },
  {
   "cell_type": "code",
   "execution_count": 6,
   "outputs": [
    {
     "name": "stderr",
     "output_type": "stream",
     "text": [
      "  0%|          | 0/260 [00:00<?, ?it/s]/opt/anaconda3/envs/TOTEMS/lib/python3.8/site-packages/scipy/optimize/minpack.py:828: OptimizeWarning: Covariance of the parameters could not be estimated\n",
      "  warnings.warn('Covariance of the parameters could not be estimated',\n",
      "100%|██████████| 260/260 [00:03<00:00, 80.59it/s]\n",
      "100%|██████████| 260/260 [00:00<00:00, 145247.61it/s]\n",
      "100%|██████████| 255/255 [00:00<00:00, 260801.64it/s]\n"
     ]
    },
    {
     "name": "stdout",
     "output_type": "stream",
     "text": [
      "[2458930.3322150814, 2458906.3069253056, 2458895.392665395, 2458884.47817548, 2458883.389555486, 2458883.387165486, 2458872.470795561, 2458871.3825555695, 2458871.3791355696, 2458860.4658756373, 2458859.375955643, 2458848.461685704, 2458837.550155758, 2458561.4191047084, 2458538.5077344007, 2458537.414204386, 2458537.407634386, 2458536.3170643724, 2458536.3129943716, 2458513.4022540255, 2458501.396543836, 2458501.392013836, 2458501.3916738355, 2458490.4828236564, 2458490.477903656, 2458489.387803637, 2458489.3834536374, 2458479.568743471, 2458478.4770034514, 2458467.5641532624, 2458457.7342530857, 2458455.5545930457, 2458411.896052222, 2458396.6175619145, 2458396.615161915, 2458214.3469873583, 2458178.3302862793, 2458167.4160459414, 2458157.5943356357, 2458131.400314797, 2458109.5717340778, 2458096.474133639, 2458087.7458433453, 2458076.8293529726, 2457832.3508739634, 2457809.4350430444, 2457809.431273044, 2457775.6011016755, 2457774.506521631, 2457773.415161587, 2457772.3273715423, 2457770.1403614543, 2457761.4089511014, 2457760.3181710574, 2457760.317471057, 2457760.316471057, 2457758.134850968, 2457757.0432809247, 2457751.5869391304, 2457751.5856491304, 2457750.494949086, 2457749.4050490423, 2457726.4841381186, 2457668.6377857835, 2457486.3712484483, 2457474.364347968, 2457474.364077968, 2457451.4472370534, 2457426.3433560547, 2457414.33472558, 2457379.414424209, 2457379.414424209, 2457369.58947383, 2457368.4996537874, 2457368.498963787, 2457357.58649337, 2457357.5850133705, 2457356.493733327, 2457345.5798329143, 2457345.578812914, 2457344.488692871, 2457344.4867228703, 2457092.3683527266, 2457080.3675723653, 2457080.3675723653, 2457069.4489120403, 2457033.4335610094, 2457032.3333109776, 2456998.508180061, 2456998.508180061, 2456986.5011397433, 2456963.5824791603, 2456963.57895916, 2456963.5784391603, 2456960.30686908, 2456950.4851188394, 2456927.546138296, 2456746.3918849616, 2456746.3855149625, 2456734.388674791, 2456734.3835047903, 2456722.3826146275, 2456722.380284628, 2456722.3725346276, 2456711.463864484, 2456688.5447342023, 2456686.36269418, 2456663.4436139367, 2456650.341583814, 2456641.6102737384, 2456640.52255373, 2456639.4379737223, 2456639.4328937223, 2456639.430343722, 2456630.699753652, 2456628.517073637, 2456628.515003637, 2456627.4290336287, 2456626.3333236207, 2456616.511353554, 2456608.869563504, 2456604.5030734804, 2456596.8663834385, 2456595.7728134296, 2456584.860173382, 2456388.4062335775, 2456364.3925437503, 2456329.4692940516, 2456304.3677843045, 2456304.367454305, 2456304.365804305, 2456304.364534305, 2456304.351564305, 2456296.7243843894, 2456292.357054438, 2456271.623264687, 2456269.425194715, 2456249.79384498, 2456246.516835024, 2456222.5096953884, 2456029.324527854, 2456005.3153284607, 2456003.1301685167, 2456003.129688517, 2455994.399358741, 2455994.3987187417, 2455993.3131187684, 2455993.3098687683, 2455982.39491906, 2455970.3947493793, 2455970.3923693793, 2455969.2964694104, 2455962.7499295888, 2455961.65912962, 2455959.4707496813, 2455957.2967797406, 2455957.2967797406, 2455957.294399741, 2455957.2875997415, 2455950.742509925, 2455949.6508999555, 2455949.6508999555, 2455947.4684800156, 2455946.3830300467, 2455938.7387302644, 2455937.6454302957, 2455936.561520327, 2455936.5525603276, 2455928.913320548, 2455922.370120738, 2455922.3661907385, 2455914.7267409638, 2455913.6361309956, 2455912.5445610285, 2455912.5445610285, 2455905.995241223, 2455904.9052712545, 2455900.539781386, 2455899.45125142, 2455899.44844142, 2455889.6233017193, 2455877.622682086, 2455877.619162087, 2455877.618482087, 2455873.2536122235, 2455873.2441722243, 2455867.797832393, 2455857.973782698, 2455857.973782698, 2455852.518642872, 2455647.3287598765, 2455615.675910988, 2455612.4013211015, 2455612.4008011012, 2455603.6711614104, 2455601.4892114853, 2455600.3985715234, 2455600.398281523, 2455599.3046015636, 2455593.8501917548, 2455587.3025219836, 2455578.5684222924, 2455577.47711233, 2455577.4767823294, 2455577.4751723297, 2455576.3872423675, 2455555.6495631007, 2455541.461083605, 2455533.824313879, 2455532.729963918, 2455519.6320743896, 2455509.808914744, 2455506.533284859, 2455486.8917355686, 2455265.3340531457, 2455257.692093384, 2455256.596033418, 2455254.4196534874, 2455246.7768237228, 2455230.4075142243, 2455219.490744552, 2455198.756735165, 2455197.6635851976, 2455172.5627859184, 2455172.561815918, 2455164.9243161334, 2455164.9239561334, 2455151.8220764953, 2455136.5440069186, 2454931.3581816684, 2454931.354711669, 2454908.4379920587, 2454860.4183927784, 2454848.4108229415, 2454840.7711930424, 2454840.768603043, 2454837.496293086, 2454837.4907130864, 2454836.4033931005, 2454508.9768828354]\n",
      "[0.00052, 0.0006, 0.00263, 0.0007, 0.00054, 0.00054, 0.00113, 0.00049, 0.00094, 0.00082, 0.00135, 0.0007, 0.00073, 0.00163, 0.00145, 0.00239, 0.00061, 0.00081, 0.00071, 0.00082, 0.00068, 0.00076, 0.0003, 0.00085, 0.00086, 0.00103, 0.00068, 0.00058, 0.00088, 0.00053, 0.00055, 0.00071, 0.0007, 0.0007, 0.00118, 0.00114, 0.00166, 0.00102, 0.00332, 0.00064, 0.00138, 0.00057, 0.00035, 0.00143, 0.00058, 0.00094, 0.00072, 0.02219, 0.00062, 0.00055, 0.00099, 0.00033, 0.00063, 0.00103, 0.00067, 0.00167, 0.00052, 0.00037, 0.00072, 0.00094, 0.00053, 0.00084, 0.00055, 0.00082, 0.00135, 0.00055, 0.00077, 0.00086, 0.00065, 0.00131, 0.00089, 0.00089, 0.00034, 0.00046, 0.00058, 0.00043, 0.00052, 0.00061, 0.00049, 0.00109, 0.00107, 0.00065, 0.0006, 0.00119, 0.00119, 0.00051, 0.00046, 0.00113, 0.00145, 0.00145, 0.00051, 0.00061, 0.00089, 0.00093, 0.00057, 0.00074, 0.00164, 0.00141, 0.00139, 0.00073, 0.00112, 0.00108, 0.00126, 0.00089, 0.00172, 0.00054, 0.00271, 0.00076, 0.00104, 0.0008, 0.00082, 0.00161, 0.00068, 0.00074, 0.00044, 0.00088, 0.00097, 0.00105, 0.00051, 0.0009, 0.00071, 0.00092, 0.00051, 0.00096, 0.00051, 0.00282, 0.00117, 0.00164, 0.00058, 0.00156, 0.00089, 0.00146, 0.00137, 0.00052, 0.00267, 0.00055, 0.0009, 0.00067, 0.00074, 0.00081, 0.00126, 0.00044, 0.0006, 0.00063, 0.00076, 0.00068, 0.00076, 0.0006, 0.00116, 0.00215, 0.00086, 0.00069, 0.00132, 0.00107, 0.0005, 0.00057, 0.00057, 0.00104, 0.0011, 0.00066, 0.00059, 0.00059, 0.00102, 0.00077, 0.00072, 0.00119, 0.00123, 0.00091, 0.00073, 0.0009, 0.00115, 0.00047, 0.00078, 0.00057, 0.00057, 0.00135, 0.00103, 0.00038, 0.00057, 0.00063, 0.00073, 0.00168, 0.00129, 0.00092, 0.00126, 0.00418, 0.00075, 0.00071, 0.00071, 0.00142, 0.00173, 0.00054, 0.00078, 0.00083, 0.00094, 0.00109, 0.00209, 0.00042, 0.0022, 0.00047, 0.00282, 0.00082, 0.00085, 0.00069, 0.00038, 0.00135, 0.00135, 0.0005, 0.00036, 0.00035, 0.0007, 0.00087, 0.00112, 0.00206, 0.00129, 0.00174, 0.00059, 0.00014, 0.00217, 0.00011, 0.00131, 0.00141, 0.00203, 0.00014, 0.00044, 0.00129, 0.00149, 0.00141, 0.00066, 0.00098, 0.00178, 0.001, 0.00132, 0.00213, 0.001, 0.00047, 0.0013, 0.00156, 0.0006, 0.0002]\n",
      "[4051.0, 4029.0, 4019.0, 4009.0, 4008.0, 4008.0, 3998.0, 3997.0, 3997.0, 3987.0, 3986.0, 3976.0, 3966.0, 3713.0, 3692.0, 3691.0, 3691.0, 3690.0, 3690.0, 3669.0, 3658.0, 3658.0, 3658.0, 3648.0, 3648.0, 3647.0, 3647.0, 3638.0, 3637.0, 3627.0, 3618.0, 3616.0, 3576.0, 3562.0, 3562.0, 3395.0, 3362.0, 3352.0, 3343.0, 3319.0, 3299.0, 3287.0, 3279.0, 3269.0, 3045.0, 3024.0, 3024.0, 2993.0, 2992.0, 2991.0, 2990.0, 2988.0, 2980.0, 2979.0, 2979.0, 2979.0, 2977.0, 2976.0, 2971.0, 2971.0, 2970.0, 2969.0, 2948.0, 2895.0, 2728.0, 2717.0, 2717.0, 2696.0, 2673.0, 2662.0, 2630.0, 2630.0, 2621.0, 2620.0, 2620.0, 2610.0, 2610.0, 2609.0, 2599.0, 2599.0, 2598.0, 2598.0, 2367.0, 2356.0, 2356.0, 2346.0, 2313.0, 2312.0, 2281.0, 2281.0, 2270.0, 2249.0, 2249.0, 2249.0, 2246.0, 2237.0, 2216.0, 2050.0, 2050.0, 2039.0, 2039.0, 2028.0, 2028.0, 2028.0, 2018.0, 1997.0, 1995.0, 1974.0, 1962.0, 1954.0, 1953.0, 1952.0, 1952.0, 1952.0, 1944.0, 1942.0, 1942.0, 1941.0, 1940.0, 1931.0, 1924.0, 1920.0, 1913.0, 1912.0, 1902.0, 1722.0, 1700.0, 1668.0, 1645.0, 1645.0, 1645.0, 1645.0, 1645.0, 1638.0, 1634.0, 1615.0, 1613.0, 1595.0, 1592.0, 1570.0, 1393.0, 1371.0, 1369.0, 1369.0, 1361.0, 1361.0, 1360.0, 1360.0, 1350.0, 1339.0, 1339.0, 1338.0, 1332.0, 1331.0, 1329.0, 1327.0, 1327.0, 1327.0, 1327.0, 1321.0, 1320.0, 1320.0, 1318.0, 1317.0, 1310.0, 1309.0, 1308.0, 1308.0, 1301.0, 1295.0, 1295.0, 1288.0, 1287.0, 1286.0, 1286.0, 1280.0, 1279.0, 1275.0, 1274.0, 1274.0, 1265.0, 1254.0, 1254.0, 1254.0, 1250.0, 1250.0, 1245.0, 1236.0, 1236.0, 1231.0, 1043.0, 1014.0, 1011.0, 1011.0, 1003.0, 1001.0, 1000.0, 1000.0, 999.0, 994.0, 988.0, 980.0, 979.0, 979.0, 979.0, 978.0, 959.0, 946.0, 939.0, 938.0, 926.0, 917.0, 914.0, 896.0, 693.0, 686.0, 685.0, 683.0, 676.0, 661.0, 651.0, 632.0, 631.0, 608.0, 608.0, 601.0, 601.0, 589.0, 575.0, 387.0, 387.0, 366.0, 322.0, 311.0, 304.0, 304.0, 301.0, 301.0, 300.0, 0.0]\n"
     ]
    }
   ],
   "source": [
    "# Working example for WASP-12b, using ETA data:\n",
    "\n",
    "ra = \"06 30 32.79\"\n",
    "dec = \"+29 40 20.20\"\n",
    "url = \"http://var2.astro.cz/ETD/ascii-etd.php?id=246&STARNAME=WASP-12&PLANET=b&PER=1.0914222&EPOCH=2454508.97605\"\n",
    "\n",
    "# Get the data from ETD\n",
    "no, bjd, mid_err, epoch, dq, wasp12b_p0, wasp12b_t0 = get_etd_data(ra, dec, url)\n",
    "\n",
    "# Filter the data - let's use DQ 4, just to exclude only the worst data\n",
    "DQ_filter = 4\n",
    "wasp12b_data = filter_etd_data(no, bjd, mid_err, epoch, dq, DQ_filter)\n",
    "\n",
    "# So, now we have the period and mid-time @ epoch 0: p_0 and t_0\n",
    "# and we have the mid-times, uncertainties, and epochs, stored in wasp12b_data\n",
    "\n",
    "# print(wasp12b_p0)\n",
    "# print(wasp12b_t0)\n",
    "# print(wasp12b_data[0])\n",
    "# print(wasp12b_data[1])\n",
    "# print(wasp12b_data[2])"
   ],
   "metadata": {
    "collapsed": false,
    "pycharm": {
     "name": "#%%\n"
    }
   }
  },
  {
   "cell_type": "code",
   "execution_count": 6,
   "outputs": [],
   "source": [
    "\n"
   ],
   "metadata": {
    "collapsed": false,
    "pycharm": {
     "name": "#%%\n"
    }
   }
  }
 ],
 "metadata": {
  "kernelspec": {
   "display_name": "Python 3",
   "language": "python",
   "name": "python3"
  },
  "language_info": {
   "codemirror_mode": {
    "name": "ipython",
    "version": 2
   },
   "file_extension": ".py",
   "mimetype": "text/x-python",
   "name": "python",
   "nbconvert_exporter": "python",
   "pygments_lexer": "ipython2",
   "version": "2.7.6"
  }
 },
 "nbformat": 4,
 "nbformat_minor": 0
}