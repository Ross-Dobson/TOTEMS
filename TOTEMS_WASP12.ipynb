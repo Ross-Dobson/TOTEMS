{
  "nbformat": 4,
  "nbformat_minor": 0,
  "metadata": {
    "kernelspec": {
      "argv": [
        "/opt/anaconda3/envs/TOTEMS/bin/python",
        "-m",
        "ipykernel_launcher",
        "-f",
        "{connection_file}"
      ],
      "display_name": "Python 3",
      "env": null,
      "interrupt_mode": "signal",
      "language": "python",
      "metadata": null,
      "name": "python3"
    },
    "language_info": {
      "codemirror_mode": {
        "name": "ipython",
        "version": 3
      },
      "file_extension": ".py",
      "mimetype": "text/x-python",
      "name": "python",
      "nbconvert_exporter": "python",
      "pygments_lexer": "ipython3",
      "version": "3.7.7"
    },
    "name": "TOTEMS.ipynb",
    "colab": {
      "name": "TOTEMS.ipynb",
      "provenance": [],
      "collapsed_sections": [],
      "toc_visible": true
    }
  },
  "cells": [
    {
      "cell_type": "markdown",
      "metadata": {
        "id": "PvNWKvWbUPO5"
      },
      "source": [
        "# TOTEMS - Tidal Orbital decay Timing Extrapolation & Modelling Software\n",
        "**Ross Dobson, last update 2020-12-24 | [Github](https://github.com/Ross-Dobson/TOTEMS)**\n",
        "\n",
        "# Introduction\n",
        "This code analyses Exoplanet mid-transit times $t_\\text{mid}$ for signs of orbital decay, specifically those caused by tidal interaction. It also attempts to ascertain between these, or the similar effects of apsidal precession of the orbit. \n",
        "\n",
        "In this notebook, I provide an example of doing this with WASP-12b. This code was originally written as my contribution to a group project during my undergrad at University College London; it has been considerably rewritten and improved upon since then. Future plans are to write this as standalone Python code, to be incorporated into a PyPI package.\n",
        "\n",
        "## Theory\n",
        "Consider that a stable, circular orbit with no decay can be modelled as:\n",
        "\n",
        "$$ t(E)=t_0+P\\times{E}, $$ where $E$ is the epoch number of periods/transits since the reference mid-time $t_0$, and $P$ is the orbital period.\n",
        "\n",
        "A decaying orbit due to tidal interaction can be modelled as\n",
        "\n",
        "$$ t(E)=t_0+P\\times{E} + \\frac{1}{2}\\frac{dP}{dE}E^2, $$\n",
        "\n",
        "and apsidal precession can be modelled as\n",
        "\n",
        "$$ t(E)=t_0+P_s\\times{E} - \\frac{eP_a}{\\pi}\\cos\\left({\\omega(E)}\\right)$$ where orbital period is now $P_s$, the sidereal period, to distinguish from anomalistic period $P_a=P_s\\left(1-\\frac{d\\omega/dE}{2\\pi}\\right)^{-1} $, and the argument of pericenter evolves as $ \\omega(E) = \\omega_0 + \\frac{d\\omega}{dE}E $. \n",
        "\n",
        "Reference: [Kishore C. Patra *et al* 2017 AJ 154 4](https://doi.org/10.3847/1538-3881/aa6d75)\n",
        "\n",
        "## Data Preparation\n",
        "\n",
        "Prepare a CSV with three columns: the mid-time in Julian Date, the uncertainty on this, and the type of JD: either HJD_UTC, HJD_TDB, BJD_UTC, BJD_TDB. All times will be converted if necessary to BJD_TDB automatically.\n",
        "\n",
        "Alternatively, or in addition, mid-time data can be imported from the [Exoplanet Transit Database](http://var2.astro.cz/ETD/). However, this comes from a variety of sources of differing quality, so it in the authors experience is best to avoid using solely this data.\n",
        "\n",
        "If you have values for the (initial) orbital period $P_0$ and the mid-time for epoch 0, $t_0$, you can input these; else the value for $P_0$ will be obtained from ETD, the value for $t_0$ will be set at the earliest $t_\\text{mid}$."
      ]
    },
    {
      "cell_type": "markdown",
      "metadata": {
        "id": "r1VagoomDN0W"
      },
      "source": [
        "To convert mid-times into BJD$_\\text{TDB}$, the [`pylightcurve`](https://github.com/ucl-exoplanets/pylightcurve) module is utilised. This was initially provided to me by Dr. Angelos Tsiaras of University College London."
      ]
    },
    {
      "cell_type": "code",
      "metadata": {
        "colab": {
          "base_uri": "https://localhost:8080/"
        },
        "id": "aZb6BsgDSxPm",
        "outputId": "53773984-3a10-4649-a0a5-73d40bbdee16"
      },
      "source": [
        "!pip install pylightcurve"
      ],
      "execution_count": 1,
      "outputs": [
        {
          "output_type": "stream",
          "text": [
            "Requirement already satisfied: pylightcurve in /usr/local/lib/python3.6/dist-packages (3.0.5)\n",
            "Requirement already satisfied: seaborn in /usr/local/lib/python3.6/dist-packages (from pylightcurve) (0.11.0)\n",
            "Requirement already satisfied: sklearn in /usr/local/lib/python3.6/dist-packages (from pylightcurve) (0.0)\n",
            "Requirement already satisfied: astroquery in /usr/local/lib/python3.6/dist-packages (from pylightcurve) (0.4.1)\n",
            "Requirement already satisfied: astropy in /usr/local/lib/python3.6/dist-packages (from pylightcurve) (4.1)\n",
            "Requirement already satisfied: emcee in /usr/local/lib/python3.6/dist-packages (from pylightcurve) (3.0.2)\n",
            "Requirement already satisfied: exodata in /usr/local/lib/python3.6/dist-packages (from pylightcurve) (2.1.7)\n",
            "Requirement already satisfied: matplotlib in /usr/local/lib/python3.6/dist-packages (from pylightcurve) (3.2.2)\n",
            "Requirement already satisfied: scipy in /usr/local/lib/python3.6/dist-packages (from pylightcurve) (1.4.1)\n",
            "Requirement already satisfied: numpy in /usr/local/lib/python3.6/dist-packages (from pylightcurve) (1.18.5)\n",
            "Requirement already satisfied: pandas>=0.23 in /usr/local/lib/python3.6/dist-packages (from seaborn->pylightcurve) (1.1.5)\n",
            "Requirement already satisfied: scikit-learn in /usr/local/lib/python3.6/dist-packages (from sklearn->pylightcurve) (0.22.2.post1)\n",
            "Requirement already satisfied: keyring>=4.0 in /usr/local/lib/python3.6/dist-packages (from astroquery->pylightcurve) (21.5.0)\n",
            "Requirement already satisfied: beautifulsoup4>=4.3.2 in /usr/local/lib/python3.6/dist-packages (from astroquery->pylightcurve) (4.6.3)\n",
            "Requirement already satisfied: six in /usr/local/lib/python3.6/dist-packages (from astroquery->pylightcurve) (1.15.0)\n",
            "Requirement already satisfied: html5lib>=0.999 in /usr/local/lib/python3.6/dist-packages (from astroquery->pylightcurve) (1.0.1)\n",
            "Requirement already satisfied: requests>=2.4.3 in /usr/local/lib/python3.6/dist-packages (from astroquery->pylightcurve) (2.23.0)\n",
            "Requirement already satisfied: nose>=1.0 in /usr/local/lib/python3.6/dist-packages (from exodata->pylightcurve) (1.3.7)\n",
            "Requirement already satisfied: quantities in /usr/local/lib/python3.6/dist-packages (from exodata->pylightcurve) (0.12.4)\n",
            "Requirement already satisfied: kiwisolver>=1.0.1 in /usr/local/lib/python3.6/dist-packages (from matplotlib->pylightcurve) (1.3.1)\n",
            "Requirement already satisfied: pyparsing!=2.0.4,!=2.1.2,!=2.1.6,>=2.0.1 in /usr/local/lib/python3.6/dist-packages (from matplotlib->pylightcurve) (2.4.7)\n",
            "Requirement already satisfied: python-dateutil>=2.1 in /usr/local/lib/python3.6/dist-packages (from matplotlib->pylightcurve) (2.8.1)\n",
            "Requirement already satisfied: cycler>=0.10 in /usr/local/lib/python3.6/dist-packages (from matplotlib->pylightcurve) (0.10.0)\n",
            "Requirement already satisfied: pytz>=2017.2 in /usr/local/lib/python3.6/dist-packages (from pandas>=0.23->seaborn->pylightcurve) (2018.9)\n",
            "Requirement already satisfied: joblib>=0.11 in /usr/local/lib/python3.6/dist-packages (from scikit-learn->sklearn->pylightcurve) (0.17.0)\n",
            "Requirement already satisfied: SecretStorage>=3.2; sys_platform == \"linux\" in /usr/local/lib/python3.6/dist-packages (from keyring>=4.0->astroquery->pylightcurve) (3.3.0)\n",
            "Requirement already satisfied: jeepney>=0.4.2; sys_platform == \"linux\" in /usr/local/lib/python3.6/dist-packages (from keyring>=4.0->astroquery->pylightcurve) (0.6.0)\n",
            "Requirement already satisfied: importlib-metadata>=1; python_version < \"3.8\" in /usr/local/lib/python3.6/dist-packages (from keyring>=4.0->astroquery->pylightcurve) (3.1.1)\n",
            "Requirement already satisfied: webencodings in /usr/local/lib/python3.6/dist-packages (from html5lib>=0.999->astroquery->pylightcurve) (0.5.1)\n",
            "Requirement already satisfied: urllib3!=1.25.0,!=1.25.1,<1.26,>=1.21.1 in /usr/local/lib/python3.6/dist-packages (from requests>=2.4.3->astroquery->pylightcurve) (1.24.3)\n",
            "Requirement already satisfied: chardet<4,>=3.0.2 in /usr/local/lib/python3.6/dist-packages (from requests>=2.4.3->astroquery->pylightcurve) (3.0.4)\n",
            "Requirement already satisfied: idna<3,>=2.5 in /usr/local/lib/python3.6/dist-packages (from requests>=2.4.3->astroquery->pylightcurve) (2.10)\n",
            "Requirement already satisfied: certifi>=2017.4.17 in /usr/local/lib/python3.6/dist-packages (from requests>=2.4.3->astroquery->pylightcurve) (2020.12.5)\n",
            "Requirement already satisfied: cryptography>=2.0 in /usr/local/lib/python3.6/dist-packages (from SecretStorage>=3.2; sys_platform == \"linux\"->keyring>=4.0->astroquery->pylightcurve) (3.3.1)\n",
            "Requirement already satisfied: zipp>=0.5 in /usr/local/lib/python3.6/dist-packages (from importlib-metadata>=1; python_version < \"3.8\"->keyring>=4.0->astroquery->pylightcurve) (3.4.0)\n",
            "Requirement already satisfied: cffi>=1.12 in /usr/local/lib/python3.6/dist-packages (from cryptography>=2.0->SecretStorage>=3.2; sys_platform == \"linux\"->keyring>=4.0->astroquery->pylightcurve) (1.14.4)\n",
            "Requirement already satisfied: pycparser in /usr/local/lib/python3.6/dist-packages (from cffi>=1.12->cryptography>=2.0->SecretStorage>=3.2; sys_platform == \"linux\"->keyring>=4.0->astroquery->pylightcurve) (2.20)\n"
          ],
          "name": "stdout"
        }
      ]
    },
    {
      "cell_type": "code",
      "metadata": {
        "pycharm": {
          "name": "#%%\n"
        },
        "id": "q2zAv4MrR1-4",
        "colab": {
          "base_uri": "https://localhost:8080/"
        },
        "outputId": "f8c84be1-b312-4720-fae2-94962b18e350"
      },
      "source": [
        "import numpy as np\n",
        "import pandas as pd\n",
        "from tqdm import tqdm\n",
        "import matplotlib.pyplot as plt\n",
        "\n",
        "from scipy.optimize import curve_fit\n",
        "from scipy.stats import sigmaclip\n",
        "\n",
        "# Used for BJD HJD conversions - thanks to Angelos Tsiaras\n",
        "import pylightcurve as plc"
      ],
      "execution_count": 2,
      "outputs": [
        {
          "output_type": "stream",
          "text": [
            "no display found. Using non-interactive Agg backend\n"
          ],
          "name": "stdout"
        }
      ]
    },
    {
      "cell_type": "code",
      "metadata": {
        "pycharm": {
          "name": "#%%\n"
        },
        "id": "wbUOwVtgR1-5"
      },
      "source": [
        "%matplotlib inline"
      ],
      "execution_count": 3,
      "outputs": []
    },
    {
      "cell_type": "markdown",
      "metadata": {
        "id": "9akxAfEhZa7R"
      },
      "source": [
        "## Planet properties\n",
        "\n",
        "Using the [Open Exoplanet Catalogue](https://github.com/OpenExoplanetCatalogue/open_exoplanet_catalogue), we can automatically obtain a large number of parameters for most exoplanets. A lot of this information is loaded from NASA Exoplanet Archive, see the linked Github page for more information.\n"
      ]
    },
    {
      "cell_type": "code",
      "metadata": {
        "id": "hF9_iFZUuyLa"
      },
      "source": [
        "import xml.etree.ElementTree as ET, urllib.request, gzip, io\n",
        "oec_url = \"https://github.com/OpenExoplanetCatalogue/oec_gzip/raw/master/systems.xml.gz\"\n",
        "oec = ET.parse(gzip.GzipFile(fileobj=io.BytesIO(urllib.request.urlopen(oec_url).read())))"
      ],
      "execution_count": 4,
      "outputs": []
    },
    {
      "cell_type": "markdown",
      "metadata": {
        "id": "Y5osLHkijAB1"
      },
      "source": [
        "A list of all planets in the database (to check if your target is there) can be generated with:\n",
        "\n",
        "```\n",
        "for planet in oec.findall(\".//planet\"):\n",
        "    print(planet.findtext(\"name\"))\n",
        "```\n",
        "Beware this produces a long list.\n"
      ]
    },
    {
      "cell_type": "markdown",
      "metadata": {
        "id": "yxv0tumvB_7O"
      },
      "source": [
        "The below function returns the Right Ascension (hh mm ss.ss), Declination (dd mm ss.ss), Eccentricity $e$, orbital period $P$ (days), and Argument of Periastron $\\omega$ (deg), if available."
      ]
    },
    {
      "cell_type": "code",
      "metadata": {
        "id": "aqBE9P6Qy5eV"
      },
      "source": [
        "def get_oec_planet_data(planet_name):\n",
        "    \"\"\"Obtains RA, Dec, e, P, and Periastron from Open Exoplanet Catalogue.\n",
        "\n",
        "    Also prints the full system and planetary properties. Planet name needs to \n",
        "    match one on the list. To see the full list, run::\n",
        "\n",
        "        for planet in oec.findall(\".//planet\"):\n",
        "            print(planet.findtext(\"name\"))\n",
        "    \n",
        "    Parameters\n",
        "    ----------\n",
        "    planet_name : string\n",
        "        The name of the exoplanet to get the OEC data of.\n",
        "\n",
        "    Returns\n",
        "    -------\n",
        "    ra : string\n",
        "        Right Ascension of the system, format hh mm ss.ss\n",
        "    dec : string\n",
        "        Declination of the system, format dd mm ss.ss\n",
        "    period : float\n",
        "        Period of the planetary orbit in days\n",
        "    eccentricity : float\n",
        "        Eccentricity of the planetary orbit\n",
        "    periastron : float\n",
        "        Argument of periastron of the orbit (degrees)\n",
        "\n",
        "    Notes\n",
        "    -----\n",
        "    If a value is not present in the catalogue, a None will be returned.\n",
        "    \"\"\"\n",
        "    system_name = planet_name.split()[0]\n",
        "\n",
        "    print(\"System Properties:\")\n",
        "    for properties in oec.findall(\".//system[name='{0}']/*\".format(system_name)):\n",
        "        print(\"\\t\" + properties.tag + \":\", properties.text)\n",
        "\n",
        "    print(\"Planet Properties:\")\n",
        "    for properties in oec.findall(\".//planet[name='{0}']/*\".format(planet_name)):\n",
        "        print(\"\\t\" + properties.tag + \":\", properties.text)\n",
        "\n",
        "    for system in oec.findall(\".//system[name='{0}']\".format(system_name)):\n",
        "        ra = system.findtext(\"rightascension\")\n",
        "        dec = system.findtext(\"declination\")\n",
        "\n",
        "    for planet in oec.findall(\".//planet[name='{0}']\".format(planet_name)):\n",
        "        period = planet.findtext(\"period\")\n",
        "        eccentricity = planet.findtext(\"eccentricity\")\n",
        "        periastron = planet.findtext(\"periastron\")\n",
        "\n",
        "    return ra, dec, period, eccentricity, periastron"
      ],
      "execution_count": 5,
      "outputs": []
    },
    {
      "cell_type": "markdown",
      "metadata": {
        "id": "V3yq1wVwCkWP"
      },
      "source": [
        "For the example planet, WASP-12b:"
      ]
    },
    {
      "cell_type": "code",
      "metadata": {
        "colab": {
          "base_uri": "https://localhost:8080/"
        },
        "id": "KDvLpHGaBUrT",
        "outputId": "1f175460-f3d4-4be2-b9aa-5337edaf2e43"
      },
      "source": [
        "planet_name='WASP-12 b'\r\n",
        "wasp12_ra, wasp12_dec, wasp12_period, wasp12_eccentricity, wasp12_periastron = get_oec_planet_data(planet_name)\r\n",
        "wasp12_period = float(wasp12_period)\r\n",
        "wasp12_eccentricity = float(wasp12_eccentricity)\r\n",
        "wasp12_periastron = float(wasp12_eccentricity)"
      ],
      "execution_count": 6,
      "outputs": [
        {
          "output_type": "stream",
          "text": [
            "System Properties:\n",
            "\tname: WASP-12\n",
            "\trightascension: 06 30 33\n",
            "\tdeclination: +29 40 20\n",
            "\tdistance: 250\n",
            "\tbinary: \n",
            "\t\t\n",
            "Planet Properties:\n",
            "\tname: WASP-12 b\n",
            "\tname: WASP-12 A b\n",
            "\tname: 2MASS J06303279+2940202 b\n",
            "\tlist: Confirmed planets\n",
            "\tmass: 1.404\n",
            "\tradius: 1.736\n",
            "\tperiod: 1.0914222\n",
            "\tsemimajoraxis: 0.02293\n",
            "\teccentricity: 0.0\n",
            "\tinclination: 86\n",
            "\tspinorbitalignment: 59\n",
            "\ttransittime: 2454508.98074\n",
            "\tdiscoverymethod: transit\n",
            "\tlastupdate: 13/07/31\n",
            "\tdescription: The host star of WASP-12 b is the primary of a hierarchical triple system. The distant binary consists of two M dwarfs.\n",
            "\tdiscoveryyear: 2008\n",
            "\ttemperature: 2319.7\n",
            "\tlist: Planets in binary systems, S-type\n",
            "\tistransiting: 1\n"
          ],
          "name": "stdout"
        }
      ]
    },
    {
      "cell_type": "markdown",
      "metadata": {
        "id": "qKqNsSE8XkAl"
      },
      "source": [
        "Not every quantity is always present, or given in a suitable level of precision. We can see that for WASP-12, the $\\frac{dP}{dE}$ and the argument of periastron are not given, so we need to manually override it with the value from another source. The eccentricity is also not given in enough precision, so we use a value from the same source. \r\n",
        "\r\n",
        "Source: [Kishore C. Patra *et al* 2017 AJ 154 4](https://doi.org/10.3847/1538-3881/aa6d75)"
      ]
    },
    {
      "cell_type": "code",
      "metadata": {
        "id": "zYmER6tuYL6y"
      },
      "source": [
        "wasp12_eccentricity = .00208 # unitless\n",
        "wasp12_periastron = 2.92  # degrees\n",
        "wasp12_dPdE = -1.02e-9  # days/epoch\n",
        "wasp12_dwdE = 0.00133  # rad / epoch"
      ],
      "execution_count": 7,
      "outputs": []
    },
    {
      "cell_type": "markdown",
      "metadata": {
        "id": "Stsq0q5KjJjl"
      },
      "source": [
        "## Transit times"
      ]
    },
    {
      "cell_type": "markdown",
      "metadata": {
        "id": "TwTF7UdN0r4S"
      },
      "source": [
        "One option is to get data from the [Exoplanet Transit Database](http://var2.astro.cz/ETD). This data tends to be from multiple sources of differing techniques and quality, however. In the author's experience, it should be used only as a last resort, or to bolster data from any recent published paper if few mid-times are available."
      ]
    },
    {
      "cell_type": "markdown",
      "metadata": {
        "id": "gMj0IMuU09Wi"
      },
      "source": [
        "If using solely ETD data, it usually makes sense to use their values of $P_0$ and $t_0$ as to inherit their epoch system."
      ]
    },
    {
      "cell_type": "code",
      "metadata": {
        "id": "wwhQriiX0AVg"
      },
      "source": [
        "def get_etd_p0_t0(etd_url):\n",
        "    \"\"\"Obtains the values of P_0 (period) and t_0 (tmid at epoch 0) from ETD.\n",
        "    \n",
        "    Parameters\n",
        "    ----------\n",
        "    etd_url : string\n",
        "        The URL to the .csv file for the planet on ETD.\n",
        "\n",
        "    Returns\n",
        "    -------\n",
        "    p0\n",
        "    \"\"\"\n",
        "    # Load in the row, split in two via delimeter choice.\n",
        "    p_str, t_str = np.loadtxt(etd_url, dtype=str, encoding='unicode_escape', delimiter=', ', skiprows=2, max_rows=1)\n",
        "    \n",
        "    # Now get just the number, lose everything else.\n",
        "    for token in p_str.split():\n",
        "        try:\n",
        "            p0 = float(token)\n",
        "        except ValueError:\n",
        "            pass # if its not the number, move on\n",
        "    for token in t_str.split():\n",
        "        try:\n",
        "            t0 = float(token)\n",
        "        except ValueError:\n",
        "            pass # if its not the number, move on\n",
        "\n",
        "    return p0, t0"
      ],
      "execution_count": 8,
      "outputs": []
    },
    {
      "cell_type": "code",
      "metadata": {
        "colab": {
          "base_uri": "https://localhost:8080/"
        },
        "id": "TdesYxFhDf4N",
        "outputId": "ac3bce96-f5c6-4435-ec3b-d20a06e8edad"
      },
      "source": [
        "wasp12_etd_url = 'http://var2.astro.cz/ETD/ascii-etd.php?id=246&STARNAME=WASP-12&PLANET=b&PER=1.0914222&EPOCH=2454508.97605'\r\n",
        "wasp12_etd_p0, wasp12_etd_t0 = get_etd_p0_t0(wasp12_etd_url)\r\n",
        "print(\"P0:\", wasp12_etd_p0, \"t0:\",wasp12_etd_t0)"
      ],
      "execution_count": 9,
      "outputs": [
        {
          "output_type": "stream",
          "text": [
            "P0: 1.0914222 t0: 2454508.97605\n"
          ],
          "name": "stdout"
        }
      ]
    },
    {
      "cell_type": "markdown",
      "metadata": {
        "id": "FgUlQiwPkKS8"
      },
      "source": [
        "This function gets the transit data for the exoplanet from the [Exoplanet Transit Database](http://var2.astro.cz/ETD).\n",
        "\n",
        "Requires RA and Dec to convert from HJD_UTC to BJD_TDB."
      ]
    },
    {
      "cell_type": "code",
      "metadata": {
        "id": "EV8gRBY_SJ65"
      },
      "source": [
        "def get_etd_data(right_ascension, declination, etd_url):\n",
        "    \"\"\"Imports the data from ETD. Uses RA & Dec to convert HJD_UTC to BJD_TDB.\n",
        "    \n",
        "    Parameters\n",
        "    ----------\n",
        "    right_ascension : string\n",
        "        The right ascension in hh mm ss.ss\n",
        "    declination : string\n",
        "        The declination in dd mm ss.ss\n",
        "    etd_url : string\n",
        "        The URL of the ETD .csv datafile\n",
        "\n",
        "    Returns\n",
        "    -------\n",
        "    data : Dataframe\n",
        "        A Pandas DataFrame with bjd, mid_err, dq. These are the mid-time \n",
        "        in BJD_TDB, the uncertainty of the mid-time, and the ETD Data Quality \n",
        "        factor, where 1 is best and 5 is worst. The index is the row numbers \n",
        "        from ETD, we keep this as an arbitrary index for now.\n",
        "\n",
        "    Notes\n",
        "    -----\n",
        "    It might be worth checking that each individual data point is actually in \n",
        "    HJD, rather than e.g. BJD already, as ETD doesn't specify. Check the source\n",
        "    paper for the datapoint.\n",
        "    \"\"\"\n",
        "\n",
        "    # Note that we keep ETD's index numbers for now, for convenience. Having\n",
        "    # tmid as the index makes manipulation of it a lot harder.\n",
        "\n",
        "    # Columns that we want from the CSV.\n",
        "    csv_headers = ['#', 'HJDmid', 'HJDmid Error', 'DQ']\n",
        "\n",
        "    # What we want to name the columns in our DataFrame.\n",
        "    cols = ['tmid', 'err', 'DQ']\n",
        "\n",
        "    # Now to import the actual transit data.\n",
        "    data = pd.read_csv(etd_url, delimiter=';', header=0, index_col=0,\n",
        "                       usecols=csv_headers, skiprows=4)\n",
        "    \n",
        "    # Set the columns to the names we want.\n",
        "    data.index.rename('number', inplace=True)  # row header\n",
        "    data.columns = cols  # columns\n",
        "\n",
        "    # Convert from the truncated HJD to the full HJD.\n",
        "    data['tmid'] = data['tmid'].apply(lambda x: x + 2400000)\n",
        "\n",
        "    # Assuming (fairly certain) ETD uses HJD_UTC, let's convert to BJD_TDB.\n",
        "    ra_dec_string = right_ascension+\" \"+declination\n",
        "    ra, dec = plc.ra_dec_string_to_deg(ra_dec_string)\n",
        "\n",
        "    # Convert to BJD_TDB; we assume uncertainty remains the same for HJD or BJD\n",
        "    bjd = np.array([])\n",
        "    for (col, value) in data['tmid'].iteritems():\n",
        "        bjd = np.append(bjd, plc.hjd_utc_to_bjd_tdb(ra, dec, value))\n",
        "\n",
        "    return data"
      ],
      "execution_count": 10,
      "outputs": []
    },
    {
      "cell_type": "code",
      "metadata": {
        "colab": {
          "base_uri": "https://localhost:8080/",
          "height": 486
        },
        "id": "4QigQosHEAZV",
        "outputId": "738c5356-6b71-4169-ecb8-42076efd6fe2"
      },
      "source": [
        "etd_data = get_etd_data(wasp12_ra, wasp12_dec, wasp12_etd_url)\r\n",
        "etd_data"
      ],
      "execution_count": 11,
      "outputs": [
        {
          "output_type": "stream",
          "text": [
            "/usr/local/lib/python3.6/dist-packages/scipy/optimize/minpack.py:808: OptimizeWarning: Covariance of the parameters could not be estimated\n",
            "  category=OptimizeWarning)\n"
          ],
          "name": "stderr"
        },
        {
          "output_type": "execute_result",
          "data": {
            "text/html": [
              "<div>\n",
              "<style scoped>\n",
              "    .dataframe tbody tr th:only-of-type {\n",
              "        vertical-align: middle;\n",
              "    }\n",
              "\n",
              "    .dataframe tbody tr th {\n",
              "        vertical-align: top;\n",
              "    }\n",
              "\n",
              "    .dataframe thead th {\n",
              "        text-align: right;\n",
              "    }\n",
              "</style>\n",
              "<table border=\"1\" class=\"dataframe\">\n",
              "  <thead>\n",
              "    <tr style=\"text-align: right;\">\n",
              "      <th></th>\n",
              "      <th>tmid</th>\n",
              "      <th>err</th>\n",
              "      <th>DQ</th>\n",
              "    </tr>\n",
              "    <tr>\n",
              "      <th>number</th>\n",
              "      <th></th>\n",
              "      <th></th>\n",
              "      <th></th>\n",
              "    </tr>\n",
              "  </thead>\n",
              "  <tbody>\n",
              "    <tr>\n",
              "      <th>266</th>\n",
              "      <td>2.459184e+06</td>\n",
              "      <td>0.00061</td>\n",
              "      <td>2</td>\n",
              "    </tr>\n",
              "    <tr>\n",
              "      <th>265</th>\n",
              "      <td>2.459173e+06</td>\n",
              "      <td>0.00078</td>\n",
              "      <td>3</td>\n",
              "    </tr>\n",
              "    <tr>\n",
              "      <th>264</th>\n",
              "      <td>2.459173e+06</td>\n",
              "      <td>0.00102</td>\n",
              "      <td>3</td>\n",
              "    </tr>\n",
              "    <tr>\n",
              "      <th>263</th>\n",
              "      <td>2.459172e+06</td>\n",
              "      <td>0.00064</td>\n",
              "      <td>2</td>\n",
              "    </tr>\n",
              "    <tr>\n",
              "      <th>262</th>\n",
              "      <td>2.459148e+06</td>\n",
              "      <td>0.00073</td>\n",
              "      <td>3</td>\n",
              "    </tr>\n",
              "    <tr>\n",
              "      <th>...</th>\n",
              "      <td>...</td>\n",
              "      <td>...</td>\n",
              "      <td>...</td>\n",
              "    </tr>\n",
              "    <tr>\n",
              "      <th>5</th>\n",
              "      <td>2.454841e+06</td>\n",
              "      <td>0.00047</td>\n",
              "      <td>1</td>\n",
              "    </tr>\n",
              "    <tr>\n",
              "      <th>4</th>\n",
              "      <td>2.454837e+06</td>\n",
              "      <td>0.00130</td>\n",
              "      <td>4</td>\n",
              "    </tr>\n",
              "    <tr>\n",
              "      <th>3</th>\n",
              "      <td>2.454837e+06</td>\n",
              "      <td>0.00156</td>\n",
              "      <td>3</td>\n",
              "    </tr>\n",
              "    <tr>\n",
              "      <th>2</th>\n",
              "      <td>2.454836e+06</td>\n",
              "      <td>0.00060</td>\n",
              "      <td>2</td>\n",
              "    </tr>\n",
              "    <tr>\n",
              "      <th>1</th>\n",
              "      <td>2.454509e+06</td>\n",
              "      <td>0.00020</td>\n",
              "      <td>1</td>\n",
              "    </tr>\n",
              "  </tbody>\n",
              "</table>\n",
              "<p>266 rows × 3 columns</p>\n",
              "</div>"
            ],
            "text/plain": [
              "                tmid      err  DQ\n",
              "number                           \n",
              "266     2.459184e+06  0.00061   2\n",
              "265     2.459173e+06  0.00078   3\n",
              "264     2.459173e+06  0.00102   3\n",
              "263     2.459172e+06  0.00064   2\n",
              "262     2.459148e+06  0.00073   3\n",
              "...              ...      ...  ..\n",
              "5       2.454841e+06  0.00047   1\n",
              "4       2.454837e+06  0.00130   4\n",
              "3       2.454837e+06  0.00156   3\n",
              "2       2.454836e+06  0.00060   2\n",
              "1       2.454509e+06  0.00020   1\n",
              "\n",
              "[266 rows x 3 columns]"
            ]
          },
          "metadata": {
            "tags": []
          },
          "execution_count": 11
        }
      ]
    },
    {
      "cell_type": "markdown",
      "metadata": {
        "id": "SpUCBXnHEB1k"
      },
      "source": [
        "Next, filter the ETD data. A maximum DQ (1 best, 5 worst) can be specified. It also removes mid-times that do not have a published uncertainty."
      ]
    },
    {
      "cell_type": "code",
      "metadata": {
        "id": "r80gB3iJmZ5r"
      },
      "source": [
        "def filter_etd_data(data, filter):\n",
        "    \"\"\"Filters ETD data to DQ<=filter. Checks uncertainty exists else deletes.\n",
        "\n",
        "    ETD has it so that the best DQ is 1, the worst DQ is 5. By checking whether\n",
        "    the transit mid-time has an associated uncertainty, we can discard the most\n",
        "    egregious datapoints that are scientifically useless for us.\n",
        "\n",
        "    Parameters\n",
        "    ----------\n",
        "    data : DataFrame\n",
        "        The dataframe of ETD data to be filtered.\n",
        "    filter : int\n",
        "        The value of DQ for which transits with DQ greater than this should be \n",
        "        discarded.\n",
        "    \n",
        "    Returns\n",
        "    -------\n",
        "    filtered_data : DataFrame\n",
        "        DataFrame of ETD data with DQ <= filter\n",
        "    \"\"\"\n",
        "\n",
        "    # Use only values where an uncertainty exists, and isn't somehow negative \n",
        "    # (e.g. debug values of -9999 making it into the dataset!)\n",
        "    filtered_data = data[data.err.notnull()]\n",
        "    filtered_data = filtered_data[filtered_data.err > 0]\n",
        "    \n",
        "    # filter by DQ\n",
        "    print(\"Before filtering:\", len(data.index), \"transits.\")\n",
        "    print(\"Filtering values with DQ filter {0}.\".format(filter))\n",
        "    filtered_data = filtered_data[filtered_data.DQ <= filter]\n",
        "    print(\"After filtering:\", len(filtered_data.index), \"transits.\")\n",
        "\n",
        "    filtered_data.drop('DQ', axis='columns', inplace=True)\n",
        "\n",
        "    return filtered_data"
      ],
      "execution_count": 12,
      "outputs": []
    },
    {
      "cell_type": "code",
      "metadata": {
        "colab": {
          "base_uri": "https://localhost:8080/"
        },
        "id": "rK8NuA-lEQW2",
        "outputId": "2d7dff81-3a71-4563-8366-6250d0e4d467"
      },
      "source": [
        "# Setting to lower filter values is better. Set to 2 as an example.\r\n",
        "filtered_etd_data = filter_etd_data(etd_data, 2)"
      ],
      "execution_count": 13,
      "outputs": [
        {
          "output_type": "stream",
          "text": [
            "Before filtering: 266 transits.\n",
            "Filtering values with DQ filter 2.\n",
            "After filtering: 103 transits.\n"
          ],
          "name": "stdout"
        }
      ]
    },
    {
      "cell_type": "markdown",
      "metadata": {
        "id": "y97AJniUETux"
      },
      "source": [
        "To add datapoints from a CSV, use this function. It can also convert from HJD to BJD (either UTC or TDB) if the type is specified as a third column in the data, and if parameter `convert` is set to `True`."
      ]
    },
    {
      "cell_type": "code",
      "metadata": {
        "id": "U31dZQsXrT_L"
      },
      "source": [
        "def add_own_data(right_ascension, declination, fpath, convert=False):\n",
        "    \"\"\"Function to add your own data from csv, with format tmid, err, JD type.\n",
        "\n",
        "    JD type needs to be one of \"HJD_UTC\", \"HJD_TDB\", \"BJD_UTC\", or \"BJD_TDB\". If\n",
        "    necessary, these will be converted to BJD_TDB.\n",
        "\n",
        "    Parameters\n",
        "    ----------\n",
        "    right_ascension : string\n",
        "        The right ascension in hh mm ss.ss\n",
        "    declination : string\n",
        "        The declination in dd mm ss.ss\n",
        "    fpath : string\n",
        "        The path to your .csv datafile, local path or URL\n",
        "\n",
        "    Returns\n",
        "    -------\n",
        "    data : pandas DataFrame \n",
        "        Pandas Dataframe with bjd, mid_err. These are the mid-time in BJD_TDB,\n",
        "        and the uncertainty of said mid-time. The index is an arbitrary index\n",
        "        for now, automatically generated.\n",
        "    \"\"\"\n",
        "\n",
        "    # import all the data as NumPy arrays. We'll make a df at the end.\n",
        "    # genfromtxt has a bug/\"feature\" at not unpacking if dtype=None (where it \n",
        "    # guesses the dtype), so we have to import all of itas strings, then change \n",
        "    # mid and err to floats afterwards.\n",
        "    if convert==True:\n",
        "        mid, err, jd_type = np.genfromtxt(fpath, unpack=True, dtype=str, skip_header=1, encoding='unicode_escape', delimiter=',', missing_values='')\n",
        "        mid, err = mid.astype(float), err.astype(float)\n",
        "        \n",
        "        # Prepare for BJD conversion\n",
        "        print(\"Mid-times will be converted to BJD_TDB.\")\n",
        "        bjd=np.array([])\n",
        "        ra_dec_string = right_ascension+\" \"+declination\n",
        "        ra, dec = plc.ra_dec_string_to_deg(ra_dec_string)\n",
        "\n",
        "        # Convert the mid-time\n",
        "        for i, jd in enumerate(mid):\n",
        "            if jd_type[i] == \"BJD_TDB\":\n",
        "                bjd = np.append(bjd, jd)\n",
        "            elif jd_type[i] == \"HJD_UTC\":\n",
        "                bjd = np.append(bjd, plc.hjd_utc_to_bjd_tdb(ra, dec, jd))\n",
        "            elif jd_type[i] == \"HJD_TDB\":\n",
        "                bjd = np.append(bjd, plc.hjd_tdb_to_bjd_tdb(ra, dec, jd))\n",
        "            elif jd_type[i] == \"BJD_UTC\":\n",
        "                bjd = np.append(bjd, plc.bjd_utc_to_bjd_tdb(ra, dec, jd))\n",
        "            else:\n",
        "                # i+2 as csv will count from 1, and +1 for the header\n",
        "                raise ValueError(\"Type needs to be \\'BJD_TDB\\', \\'HJD_UTC\\', \\'HJD_TDB\\' or \\`BJD_UTC\\`. Check csv row\",i+2)\n",
        "\n",
        "    elif convert==False:\n",
        "        bjd, err = np.genfromtxt(fpath, unpack=True, dtype=float, skip_header=1, usecols=(0,1), encoding='unicode_escape', delimiter=',', missing_values='')\n",
        "        print(\"Mid-times assumed to already be BJD_TDB.\")\n",
        "    \n",
        "    else:\n",
        "        raise TypeError('Convert needs to be True or False')\n",
        "\n",
        "    # Make a DataFrame for our NumPy arrays, set the columns\n",
        "    own_data = pd.DataFrame(data=(np.array([bjd,err]).T))\n",
        "    own_data.columns = ['tmid', 'err']\n",
        "    return own_data"
      ],
      "execution_count": 14,
      "outputs": []
    },
    {
      "cell_type": "code",
      "metadata": {
        "colab": {
          "base_uri": "https://localhost:8080/",
          "height": 437
        },
        "id": "8fka7SAKFVSh",
        "outputId": "e3b95788-d474-4a86-9c0c-0c8fb36a2f2d"
      },
      "source": [
        "own_data = add_own_data(wasp12_ra, wasp12_dec, 'example_data_WASP12b.csv', convert=True)\r\n",
        "own_data"
      ],
      "execution_count": 15,
      "outputs": [
        {
          "output_type": "stream",
          "text": [
            "Mid-times will be converted to BJD_TDB.\n"
          ],
          "name": "stdout"
        },
        {
          "output_type": "execute_result",
          "data": {
            "text/html": [
              "<div>\n",
              "<style scoped>\n",
              "    .dataframe tbody tr th:only-of-type {\n",
              "        vertical-align: middle;\n",
              "    }\n",
              "\n",
              "    .dataframe tbody tr th {\n",
              "        vertical-align: top;\n",
              "    }\n",
              "\n",
              "    .dataframe thead th {\n",
              "        text-align: right;\n",
              "    }\n",
              "</style>\n",
              "<table border=\"1\" class=\"dataframe\">\n",
              "  <thead>\n",
              "    <tr style=\"text-align: right;\">\n",
              "      <th></th>\n",
              "      <th>tmid</th>\n",
              "      <th>err</th>\n",
              "    </tr>\n",
              "  </thead>\n",
              "  <tbody>\n",
              "    <tr>\n",
              "      <th>0</th>\n",
              "      <td>2454515.525</td>\n",
              "      <td>0.00043</td>\n",
              "    </tr>\n",
              "    <tr>\n",
              "      <th>1</th>\n",
              "      <td>2454836.403</td>\n",
              "      <td>0.00028</td>\n",
              "    </tr>\n",
              "    <tr>\n",
              "      <th>2</th>\n",
              "      <td>2454840.769</td>\n",
              "      <td>0.00062</td>\n",
              "    </tr>\n",
              "    <tr>\n",
              "      <th>3</th>\n",
              "      <td>2455140.910</td>\n",
              "      <td>0.00042</td>\n",
              "    </tr>\n",
              "    <tr>\n",
              "      <th>4</th>\n",
              "      <td>2455147.459</td>\n",
              "      <td>0.00043</td>\n",
              "    </tr>\n",
              "    <tr>\n",
              "      <th>...</th>\n",
              "      <td>...</td>\n",
              "      <td>...</td>\n",
              "    </tr>\n",
              "    <tr>\n",
              "      <th>96</th>\n",
              "      <td>2457765.775</td>\n",
              "      <td>0.00028</td>\n",
              "    </tr>\n",
              "    <tr>\n",
              "      <th>97</th>\n",
              "      <td>2457766.866</td>\n",
              "      <td>0.00039</td>\n",
              "    </tr>\n",
              "    <tr>\n",
              "      <th>98</th>\n",
              "      <td>2457776.689</td>\n",
              "      <td>0.00029</td>\n",
              "    </tr>\n",
              "    <tr>\n",
              "      <th>99</th>\n",
              "      <td>2457788.695</td>\n",
              "      <td>0.00048</td>\n",
              "    </tr>\n",
              "    <tr>\n",
              "      <th>100</th>\n",
              "      <td>2457800.700</td>\n",
              "      <td>0.00032</td>\n",
              "    </tr>\n",
              "  </tbody>\n",
              "</table>\n",
              "<p>101 rows × 2 columns</p>\n",
              "</div>"
            ],
            "text/plain": [
              "            tmid      err\n",
              "0    2454515.525  0.00043\n",
              "1    2454836.403  0.00028\n",
              "2    2454840.769  0.00062\n",
              "3    2455140.910  0.00042\n",
              "4    2455147.459  0.00043\n",
              "..           ...      ...\n",
              "96   2457765.775  0.00028\n",
              "97   2457766.866  0.00039\n",
              "98   2457776.689  0.00029\n",
              "99   2457788.695  0.00048\n",
              "100  2457800.700  0.00032\n",
              "\n",
              "[101 rows x 2 columns]"
            ]
          },
          "metadata": {
            "tags": []
          },
          "execution_count": 15
        }
      ]
    },
    {
      "cell_type": "markdown",
      "metadata": {
        "id": "4zZzoMNP2dZx"
      },
      "source": [
        "This function calculates the epochs for your mid-times. It makes the assumption of rounding any mid-time to the nearest epoch. It is extremely unlikely to have enough data recorded to have a situation where any TTV has caused it to \"skip\" an epoch or have an extra epoch, so this is a valid assumption to make."
      ]
    },
    {
      "cell_type": "code",
      "metadata": {
        "id": "YKwYIlxsKzhL"
      },
      "source": [
        "def epoch_calculator(df, p0, t0):\n",
        "    \"\"\"Calculates epochs for a df. Needs a P0 & T0 (or use ETD & earliest tmid). \n",
        "\n",
        "    Parameters\n",
        "    ----------\n",
        "    df : pandas DataFrame\n",
        "        DataFrame of tmids and uncertainties\n",
        "    p0 : float\n",
        "        Period of exoplanet orbit in days\n",
        "    t0 : float\n",
        "        Reference mid-time for epoch 0, in BJD_TDB\n",
        "    \n",
        "    Returns\n",
        "    -------\n",
        "    sorted_df : pandas DataFrame \n",
        "        DataFrame with new epoch column, sorted by tmid.\n",
        "\n",
        "    Raises\n",
        "    ------\n",
        "    ValueError\n",
        "        If P0 or T0 are negative.\n",
        "\n",
        "    Notes\n",
        "    -----\n",
        "    Supply a P0 and T0. If you have your own values, e.g. from a paper, pass\n",
        "    these in. Else, consider using either ETD's values with get_etd_p0_t0(),\n",
        "    or use the period provided by EOC, and use one of your tmid values; \n",
        "    earliest or median are good choices to see trends clearly, use \n",
        "    `df.tmid.min()` or `df.tmid.median()` to obtain.\n",
        "\n",
        "    \"\"\"\n",
        "    if (p0<=0):\n",
        "        raise ValueError(\"Period cannot be negative\")\n",
        "\n",
        "    if (t0<=0):\n",
        "        raise ValueError(\"Mid-times cannot be negative\")\n",
        "\n",
        "    # Calculate the epoch system, assume closest rounding is correct via np.rint\n",
        "    # Epoch is calculated assuming a constant-period stable circular orbit.\n",
        "    df['epoch'] = data['tmid'].apply(lambda x: np.rint((x-t0)/p0) )\n",
        "    df['epoch'] = pd.Series(df['epoch'], dtype=int)  # make sure it's integer\n",
        "\n",
        "    # sort by tmid, and replace the index with sequential numbers\n",
        "    sorted_df = df.sort_values('tmid', ignore_index=True)\n",
        "    return sorted_df"
      ],
      "execution_count": 16,
      "outputs": []
    },
    {
      "cell_type": "markdown",
      "metadata": {
        "id": "mP4axqU9IAfO"
      },
      "source": [
        "For example, the ETD and the data from the .csv will be combined and run through the function, using ETD's epoch system."
      ]
    },
    {
      "cell_type": "code",
      "metadata": {
        "id": "gkzWyQmG-Mqy",
        "colab": {
          "base_uri": "https://localhost:8080/",
          "height": 419
        },
        "outputId": "eb4a53a6-e199-49e2-e052-256146c1140d"
      },
      "source": [
        "data = pd.concat([filtered_etd_data, own_data])\n",
        "data = epoch_calculator(data, wasp12_etd_p0, wasp12_etd_t0)\n",
        "data"
      ],
      "execution_count": 17,
      "outputs": [
        {
          "output_type": "execute_result",
          "data": {
            "text/html": [
              "<div>\n",
              "<style scoped>\n",
              "    .dataframe tbody tr th:only-of-type {\n",
              "        vertical-align: middle;\n",
              "    }\n",
              "\n",
              "    .dataframe tbody tr th {\n",
              "        vertical-align: top;\n",
              "    }\n",
              "\n",
              "    .dataframe thead th {\n",
              "        text-align: right;\n",
              "    }\n",
              "</style>\n",
              "<table border=\"1\" class=\"dataframe\">\n",
              "  <thead>\n",
              "    <tr style=\"text-align: right;\">\n",
              "      <th></th>\n",
              "      <th>tmid</th>\n",
              "      <th>err</th>\n",
              "      <th>epoch</th>\n",
              "    </tr>\n",
              "  </thead>\n",
              "  <tbody>\n",
              "    <tr>\n",
              "      <th>0</th>\n",
              "      <td>2.454509e+06</td>\n",
              "      <td>0.00020</td>\n",
              "      <td>0</td>\n",
              "    </tr>\n",
              "    <tr>\n",
              "      <th>1</th>\n",
              "      <td>2.454516e+06</td>\n",
              "      <td>0.00043</td>\n",
              "      <td>6</td>\n",
              "    </tr>\n",
              "    <tr>\n",
              "      <th>2</th>\n",
              "      <td>2.454836e+06</td>\n",
              "      <td>0.00060</td>\n",
              "      <td>300</td>\n",
              "    </tr>\n",
              "    <tr>\n",
              "      <th>3</th>\n",
              "      <td>2.454836e+06</td>\n",
              "      <td>0.00028</td>\n",
              "      <td>300</td>\n",
              "    </tr>\n",
              "    <tr>\n",
              "      <th>4</th>\n",
              "      <td>2.454841e+06</td>\n",
              "      <td>0.00047</td>\n",
              "      <td>304</td>\n",
              "    </tr>\n",
              "    <tr>\n",
              "      <th>...</th>\n",
              "      <td>...</td>\n",
              "      <td>...</td>\n",
              "      <td>...</td>\n",
              "    </tr>\n",
              "    <tr>\n",
              "      <th>199</th>\n",
              "      <td>2.458906e+06</td>\n",
              "      <td>0.00060</td>\n",
              "      <td>4029</td>\n",
              "    </tr>\n",
              "    <tr>\n",
              "      <th>200</th>\n",
              "      <td>2.458930e+06</td>\n",
              "      <td>0.00052</td>\n",
              "      <td>4051</td>\n",
              "    </tr>\n",
              "    <tr>\n",
              "      <th>201</th>\n",
              "      <td>2.459089e+06</td>\n",
              "      <td>0.00136</td>\n",
              "      <td>4196</td>\n",
              "    </tr>\n",
              "    <tr>\n",
              "      <th>202</th>\n",
              "      <td>2.459172e+06</td>\n",
              "      <td>0.00064</td>\n",
              "      <td>4272</td>\n",
              "    </tr>\n",
              "    <tr>\n",
              "      <th>203</th>\n",
              "      <td>2.459184e+06</td>\n",
              "      <td>0.00061</td>\n",
              "      <td>4283</td>\n",
              "    </tr>\n",
              "  </tbody>\n",
              "</table>\n",
              "<p>204 rows × 3 columns</p>\n",
              "</div>"
            ],
            "text/plain": [
              "             tmid      err  epoch\n",
              "0    2.454509e+06  0.00020      0\n",
              "1    2.454516e+06  0.00043      6\n",
              "2    2.454836e+06  0.00060    300\n",
              "3    2.454836e+06  0.00028    300\n",
              "4    2.454841e+06  0.00047    304\n",
              "..            ...      ...    ...\n",
              "199  2.458906e+06  0.00060   4029\n",
              "200  2.458930e+06  0.00052   4051\n",
              "201  2.459089e+06  0.00136   4196\n",
              "202  2.459172e+06  0.00064   4272\n",
              "203  2.459184e+06  0.00061   4283\n",
              "\n",
              "[204 rows x 3 columns]"
            ]
          },
          "metadata": {
            "tags": []
          },
          "execution_count": 17
        }
      ]
    },
    {
      "cell_type": "markdown",
      "metadata": {
        "id": "hKnyuLvTAFHw"
      },
      "source": [
        "## Fitting \r\n",
        "\r\n",
        "In each of the three scenarios discussed earlier, the Levenberg-Marquadt algorithm is used to find the model parameters that best fit the observed data. An O-C graph of predicted data using this best-fit model, and the real observed data will be produced. Outlier datapoints will be sigma-clipped.\r\n",
        "\r\n",
        "Note that an initial guess for each model parameter has to be specified, because LM only finds local minima, not global minima. This will be adressed in a future update."
      ]
    },
    {
      "cell_type": "markdown",
      "metadata": {
        "id": "E5m4b5Mr3BkI"
      },
      "source": [
        "### 1. Linear: Circular orbit, constant period\n",
        "\n",
        "If this is the case, and the exoplanet has no orbital decay, then we expect that using the first formula $t = t_0 + PE$ should have no difference from our recorded mid-times. We fit the linear model to the data using `curve_fit`, and then we generate an O-C graph of this scenario:"
      ]
    },
    {
      "cell_type": "code",
      "metadata": {
        "id": "wMkRxFBgj5Tu"
      },
      "source": [
        "def linear_model(E,t0,P):\n",
        "    '''Formula for circular orbit with constant period.\n",
        "\n",
        "    Parameters\n",
        "    ----------\n",
        "    E : int\n",
        "        The epoch for this mid-time\n",
        "    t0 : float\n",
        "        Reference mid-time for epoch 0, in BJD_TDB\n",
        "    P : float\n",
        "        Orbital period in days\n",
        "\n",
        "    Returns\n",
        "    -------\n",
        "    tmid : float\n",
        "        the tmid for a constant period circular orbit, at that epoch\n",
        "    '''\n",
        "    return t0+(P*E)"
      ],
      "execution_count": 18,
      "outputs": []
    },
    {
      "cell_type": "markdown",
      "metadata": {
        "id": "Wi1D-SWg_CUt"
      },
      "source": [
        "To get the parameters that best fit the data to the function, we use the Levenberg-Marquadt algorithm in `scipy.curve_fit`:"
      ]
    },
    {
      "cell_type": "code",
      "metadata": {
        "id": "-Gmy8W7c-q6S",
        "colab": {
          "base_uri": "https://localhost:8080/"
        },
        "outputId": "41f48d02-9a57-4284-fb03-687c85206e6c"
      },
      "source": [
        "param_guess = [wasp12_etd_t0, wasp12_etd_p0]  # Initial guess for LM to find.\n",
        "pars_linear, cov_linear = curve_fit(linear_model, data.epoch, data.tmid, param_guess, method='lm')\n",
        "\n",
        "# so this should be the t_0 and P_guess that minimise chi-sq\n",
        "t0_linear, p0_linear = pars_linear\n",
        "\n",
        "print(\"Original linear t0:\", param_guess[0])\n",
        "print(\"Best-fit linear t0:\", t0_linear)\n",
        "\n",
        "print(\"\\nOriginal linear p0:\", param_guess[1])\n",
        "print(\"Best-fit linear p0:\", p0_linear)"
      ],
      "execution_count": 19,
      "outputs": [
        {
          "output_type": "stream",
          "text": [
            "Original linear t0: 2454508.97605\n",
            "Best-fit linear t0: 2454508.9781819624\n",
            "\n",
            "Original linear p0: 1.0914222\n",
            "Best-fit linear p0: 1.091419816675735\n"
          ],
          "name": "stdout"
        }
      ]
    },
    {
      "cell_type": "code",
      "metadata": {
        "id": "sinE-yWL3rhf",
        "colab": {
          "base_uri": "https://localhost:8080/",
          "height": 297
        },
        "outputId": "0f876784-0d22-468b-99a0-97d2bc4cde1f"
      },
      "source": [
        "plt.figure()\n",
        "\n",
        "# Use the formula to generate the expected tmid at each epoch we have observations at\n",
        "tmid_linear = data['epoch'].apply(lambda E: linear_model(E, t0_linear, p0_linear))\n",
        "\n",
        "# O-C between our observed tmids and these expected tmids\n",
        "OC_linear = pd.Series(data=(data['tmid'] - tmid_linear))\n",
        "\n",
        "plt.errorbar(data['epoch'], OC_linear, xerr=0, yerr=data['err'], linestyle='None', marker='.', mfc=\"w\", mec=\"b\")\n",
        "plt.axhline(y=0, xmin=0.0, xmax=1.0, color='black', linestyle='dashed', linewidth=0.5)\n",
        "plt.ylabel('Deviation of BJD$_{TDB} (days)$')\n",
        "plt.xlabel('Epoch')\n",
        "plt.title('O-C between observed $t_{mid}$ and predicted constant-P $t_{mid}$')\n",
        "plt.show()"
      ],
      "execution_count": 20,
      "outputs": [
        {
          "output_type": "display_data",
          "data": {
            "image/png": "[encoded data removed]",
            "text/plain": [
              "<Figure size 432x288 with 1 Axes>"
            ]
          },
          "metadata": {
            "tags": [],
            "needs_background": "light"
          }
        }
      ]
    },
    {
      "cell_type": "markdown",
      "metadata": {
        "id": "-ylgXUZLVU0P"
      },
      "source": [
        "We can see some outliers, so we will sigma-clip the O-C, and use the index of the resulting Series to clip our DataFrame."
      ]
    },
    {
      "cell_type": "code",
      "metadata": {
        "id": "jCtY3b8BViNz",
        "colab": {
          "base_uri": "https://localhost:8080/",
          "height": 297
        },
        "outputId": "36b219fb-0029-420f-de2c-b24623384eb8"
      },
      "source": [
        "# 3 Sigma-clip the OC Series\n",
        "OC_linear_clipped, low, upp = sigmaclip(OC_linear, low=3.0, high=3.0)\n",
        "\n",
        "OC_linear_clipped = pd.Series(data=OC_linear_clipped)\n",
        "\n",
        "# Apply the index to the observed mid-times dataframe\n",
        "data_linear = data.loc[OC_linear_clipped.index]\n",
        "\n",
        "# Apply the index to the calculated mid-times\n",
        "tmid_linear = tmid_linear.loc[OC_linear_clipped.index]\n",
        "\n",
        "plt.errorbar(data_linear['epoch'], OC_linear_clipped, xerr=0, yerr=data_linear['err'], linestyle='None', marker='.', mfc=\"w\", mec=\"b\")\n",
        "plt.axhline(y=0, xmin=0.0, xmax=1.0, color='black', linestyle='dashed', linewidth=0.5)\n",
        "plt.ylabel('Deviation of BJD$_{TDB} (days)$')\n",
        "plt.xlabel('Epoch')\n",
        "plt.title('O-C between observed $t_{mid}$ and predicted constant-P $t_{mid}$')\n",
        "plt.show()"
      ],
      "execution_count": 21,
      "outputs": [
        {
          "output_type": "display_data",
          "data": {
            "image/png": "[encoded data removed]",
            "text/plain": [
              "<Figure size 432x288 with 1 Axes>"
            ]
          },
          "metadata": {
            "tags": [],
            "needs_background": "light"
          }
        }
      ]
    },
    {
      "cell_type": "markdown",
      "metadata": {
        "id": "dU3ut-l_YSfe"
      },
      "source": [
        "In this case, we can see that it isn't a straight line, it follows a trend, that could be descibed as possibly quadratic (orbital decay) or the beginning of a sinusoidal curve (apsidal precession)."
      ]
    },
    {
      "cell_type": "markdown",
      "metadata": {
        "id": "tnjeNJ6JVBHB"
      },
      "source": [
        "### 2. Quadratic: Orbital decay\n",
        "\n",
        "If the planet is undergoing orbital decay due to tidal interactions, then we expect that there should be no difference between the observed $t_\\text{mid}$ and $t=t_0+PE+\\frac{1}{2}\\frac{dP}{dE}E^2$"
      ]
    },
    {
      "cell_type": "code",
      "metadata": {
        "id": "PMYSyselXCAZ"
      },
      "source": [
        "def decay_model(E,t0,P,dPdE):\n",
        "    '''Formula for orbital decay due to tidal interaction. Quadratic decay term.\n",
        "\n",
        "    Parameters\n",
        "    ----------\n",
        "    E : int\n",
        "        The epoch for this mid-time\n",
        "    t0 : float\n",
        "        Reference mid-time for epoch 0, in BJD_TDB\n",
        "    P : float\n",
        "        Orbital period in days\n",
        "    dPdE : float\n",
        "        The value of dP/dE, the rate of decay. Unitless (days/days)\n",
        "\n",
        "    Returns\n",
        "    -------\n",
        "    tmid : float\n",
        "        the tmid for a an orbit undergoing tidal orbital decay, at that epoch\n",
        "    '''\n",
        "    return t0+(P*E)+(0.5*dPdE*(E**2))  #defining the equation to be modelled"
      ],
      "execution_count": 22,
      "outputs": []
    },
    {
      "cell_type": "code",
      "metadata": {
        "id": "YaDsEqShXBre",
        "colab": {
          "base_uri": "https://localhost:8080/"
        },
        "outputId": "434e1759-6930-4314-bad6-a166a3e4018a"
      },
      "source": [
        "param_guess = [wasp12_etd_t0, wasp12_etd_p0, wasp12_dPdE]\n",
        "pars_decay, cov_decay = curve_fit(decay_model, data.epoch, data.tmid, param_guess, method='lm')\n",
        "\n",
        "# The t_0 and P_guess that best fit decay_model to the observed mid-times\n",
        "t0_decay, p0_decay, dPdE_decay = pars_decay\n",
        "\n",
        "print(\"Original decay model t0:\", param_guess[0])\n",
        "print(\"Best-fit decay model decay t0:\", t0_linear)\n",
        "\n",
        "print(\"\\nOriginal decay model p0:\", param_guess[1])\n",
        "print(\"Best-fit decay model p0:\", p0_linear)\n",
        "\n",
        "print(\"\\nOriginal decay model dP/dE:\", param_guess[2])\n",
        "print(\"Best-fit decay model dP/dE:\", dPdE_decay)"
      ],
      "execution_count": 23,
      "outputs": [
        {
          "output_type": "stream",
          "text": [
            "Original decay model t0: 2454508.97605\n",
            "Best-fit decay model decay t0: 2454508.9781819624\n",
            "\n",
            "Original decay model p0: 1.0914222\n",
            "Best-fit decay model p0: 1.091419816675735\n",
            "\n",
            "Original decay model dP/dE: -1.02e-09\n",
            "Best-fit decay model dP/dE: -1.0008003742865346e-09\n"
          ],
          "name": "stdout"
        }
      ]
    },
    {
      "cell_type": "code",
      "metadata": {
        "colab": {
          "base_uri": "https://localhost:8080/",
          "height": 297
        },
        "id": "TnITkgQKKhMi",
        "outputId": "9e0c6342-2a88-4fb3-f961-7b034125c166"
      },
      "source": [
        "plt.figure()\n",
        "\n",
        "# Use the formula to generate the expected tmid at each epoch we have observations at\n",
        "tmid_decay = data['epoch'].apply(lambda E: decay_model(E, t0_decay, p0_decay, dPdE_decay))\n",
        "\n",
        "# O-C between our observed tmids and these expected tmids\n",
        "OC_decay = pd.Series(data=(data['tmid'] - tmid_decay))\n",
        "\n",
        "plt.errorbar(data['epoch'], OC_decay, xerr=0, yerr=data['err'], linestyle='None', marker='.', mfc=\"w\", mec=\"b\")\n",
        "plt.axhline(y=0, xmin=0.0, xmax=1.0, color='black', linestyle='dashed', linewidth=0.5)\n",
        "plt.ylabel('Deviation of BJD$_{TDB} (days)$')\n",
        "plt.xlabel('Epoch')\n",
        "plt.title('O-C: observed $t_{mid}$ minus predicted decay model $t_{mid}$')\n",
        "plt.show()"
      ],
      "execution_count": 24,
      "outputs": [
        {
          "output_type": "display_data",
          "data": {
            "image/png": "[encoded data removed]",
            "text/plain": [
              "<Figure size 432x288 with 1 Axes>"
            ]
          },
          "metadata": {
            "tags": [],
            "needs_background": "light"
          }
        }
      ]
    },
    {
      "cell_type": "markdown",
      "metadata": {
        "id": "LUlByDkAKyPb"
      },
      "source": [
        "The data seems to follow this trend much more closely (supporting the conclusion we drew earlier that the data looked more quadratic/sinusoidal, than linear). Sigma clip again to remove those outliers."
      ]
    },
    {
      "cell_type": "code",
      "metadata": {
        "colab": {
          "base_uri": "https://localhost:8080/",
          "height": 297
        },
        "id": "7vZYeMdQK9TY",
        "outputId": "126eae5b-3262-4217-a864-6c9ad2140b21"
      },
      "source": [
        "# 3 Sigma-clip the OC Series\n",
        "OC_decay_clipped, low, upp = sigmaclip(OC_decay, low=3.0, high=3.0)\n",
        "\n",
        "OC_decay_clipped = pd.Series(data=OC_decay_clipped)\n",
        "\n",
        "# Apply the index to the observed mid-times dataframe\n",
        "data_decay = data.loc[OC_decay_clipped.index]\n",
        "\n",
        "# Apply the index to the calculated mid-times\n",
        "tmid_decay = tmid_decay.loc[OC_decay_clipped.index]\n",
        "\n",
        "plt.errorbar(data_decay['epoch'], OC_decay_clipped, xerr=0, yerr=data_decay['err'], linestyle='None', marker='.', mfc=\"w\", mec=\"b\")\n",
        "plt.axhline(y=0, xmin=0.0, xmax=1.0, color='black', linestyle='dashed', linewidth=0.5)\n",
        "plt.ylabel('Deviation of BJD$_{TDB} (days)$')\n",
        "plt.xlabel('Epoch')\n",
        "plt.title('O-C: observed $t_{mid}$ minus predicted decay-model $t_{mid}$')\n",
        "plt.show()"
      ],
      "execution_count": 25,
      "outputs": [
        {
          "output_type": "display_data",
          "data": {
            "image/png": "[encoded data removed]",
            "text/plain": [
              "<Figure size 432x288 with 1 Axes>"
            ]
          },
          "metadata": {
            "tags": [],
            "needs_background": "light"
          }
        }
      ]
    },
    {
      "cell_type": "markdown",
      "metadata": {
        "id": "AsWM94eULc1O"
      },
      "source": [
        "This looks more promising, but to be thorough, we should repeat the process for apsidal precession, and then quantify all three fits to see which is best, and if we can draw a conclusion with any confidence."
      ]
    },
    {
      "cell_type": "markdown",
      "metadata": {
        "id": "HzU29rh1LqIu"
      },
      "source": [
        "### 3. Sinusoidal: Apsidal precession"
      ]
    },
    {
      "cell_type": "code",
      "metadata": {
        "id": "jkh0Erf2LcST"
      },
      "source": [
        "def precession_model(E,t0,Ps,ecc,w0,dwdE):\n",
        "    '''Formula for orbit with apsidal precession (sinusoidal term).\n",
        "\n",
        "    Parameters\n",
        "    ----------\n",
        "    E : int\n",
        "        The epoch for this mid-time\n",
        "    t0 : float\n",
        "        Reference mid-time for epoch 0, in BJD_TDB\n",
        "    Ps : float\n",
        "        Sideral (=orbital) period in days\n",
        "    ecc: float\n",
        "        Eccentricity of orbital path, unitless\n",
        "    w0 : float\n",
        "        The argument of periastron, in radians\n",
        "    dwdE : float\n",
        "        The value of dw/dE, the rate the argument of periastron is precessing,\n",
        "        in radians/orbit\n",
        "\n",
        "    Returns\n",
        "    -------\n",
        "    tmid : float\n",
        "        the tmid for an orbit undergoing apsidal precession, at that epoch\n",
        "    '''\n",
        "\n",
        "    Pa = Ps/(1-(dwdE/(2*np.pi)))  # anomalistic period (time for one precession)\n",
        "    return t0 + (Ps*E) - ( ((ecc*Pa)/np.pi) * np.cos(w0+(dwdE*E)) )"
      ],
      "execution_count": 26,
      "outputs": []
    },
    {
      "cell_type": "markdown",
      "metadata": {
        "id": "0KbtdwnVls9E"
      },
      "source": [
        "Running this with the values given in the paper earlier doesn't enable `curve_fit` to find an acceptable fit. However, as an uncertainty were given, we can try use values within the uncertainty range to see if there is a set of numbers that allows a fit. This can be judged by looking at the covariance matrix and seeing whether it is actually populated (i.e. not $\\infty$ or `NaN`). Later on, it can be attempted to fine-tune this to achieve the best fit/lowest $\\chi^2$."
      ]
    },
    {
      "cell_type": "code",
      "metadata": {
        "colab": {
          "base_uri": "https://localhost:8080/"
        },
        "id": "eumbHDYXWxxF",
        "outputId": "1792073a-d64b-4316-c941-29ba2a4c1ee0"
      },
      "source": [
        "# Move within bound of published uncertainties\n",
        "wasp12_eccentricity = 0.00208 + 0.00047\n",
        "wasp12_periastron = 2.92 + 0.19\n",
        "wasp12_dwdE = 0.00133 + 0.00018\n",
        "\n",
        "param_guess = [wasp12_etd_t0, wasp12_etd_p0, wasp12_eccentricity, wasp12_periastron, wasp12_dwdE]\n",
        "pars_precession, cov_precession = curve_fit(precession_model, data.epoch, data.tmid, param_guess, method='lm')\n",
        "\n",
        "# If this is non-NaN, curve_fit has found an acceptable fit\n",
        "print(\"Covariance matrix:\")\n",
        "print(repr(cov_precession))\n",
        "\n",
        "t0_precession, p_precession, e_precession, w_precession, dwdE_precession = pars_precession\n",
        "\n",
        "print(\"\\nOriginal apsidal precession t0:\", param_guess[0])\n",
        "print(\"Best-fit apsidal precession t0:\", t0_precession)\n",
        "\n",
        "print(\"\\nOriginal apsidal precesssion p0:\", param_guess[1])\n",
        "print(\"Best-fit apsidal precession pS:\", p_precession)\n",
        "\n",
        "print(\"\\nOriginal apsidal precession eccentricity:\", param_guess[2])\n",
        "print(\"Best-fit apsidal precession:\", e_precession)\n",
        "\n",
        "print(\"\\nOriginal apsidal precession argument of periastron:\", param_guess[3])\n",
        "print(\"Best-fit apsidal precession:\", w_precession)\n",
        "\n",
        "print(\"\\nOriginal apsidal precession dw/dE:\", param_guess[4])\n",
        "print(\"Best-fit apsidal precession:\", dwdE_precession)"
      ],
      "execution_count": 27,
      "outputs": [
        {
          "output_type": "stream",
          "text": [
            "Covariance matrix:\n",
            "array([[ 1.05933782e-07, -4.20723137e-11,  1.78841656e-09,\n",
            "         4.89172518e-06, -1.02790643e-09],\n",
            "       [-4.20723137e-11,  2.09725009e-14, -1.55836776e-14,\n",
            "        -1.46175065e-09, -3.61950453e-13],\n",
            "       [ 1.78841656e-09, -1.55836776e-14,  1.38140180e-08,\n",
            "         1.60969153e-07, -1.42857820e-10],\n",
            "       [ 4.89172518e-06, -1.46175065e-09,  1.60969153e-07,\n",
            "         4.92799697e-03, -1.82686820e-06],\n",
            "       [-1.02790643e-09, -3.61950453e-13, -1.42857820e-10,\n",
            "        -1.82686820e-06,  3.16223710e-09]])\n",
            "\n",
            "Original apsidal precession t0: 2454508.97605\n",
            "Best-fit apsidal precession t0: 2454508.9784987606\n",
            "\n",
            "Original apsidal precesssion p0: 1.0914222\n",
            "Best-fit apsidal precession pS: 1.0914197708185431\n",
            "\n",
            "Original apsidal precession eccentricity: 0.0025499999999999997\n",
            "Best-fit apsidal precession: 0.002461958495268098\n",
            "\n",
            "Original apsidal precession argument of periastron: 3.11\n",
            "Best-fit apsidal precession: 3.1330095539187712\n",
            "\n",
            "Original apsidal precession dw/dE: 0.00151\n",
            "Best-fit apsidal precession: 0.0014657518251595\n"
          ],
          "name": "stdout"
        }
      ]
    },
    {
      "cell_type": "code",
      "metadata": {
        "colab": {
          "base_uri": "https://localhost:8080/",
          "height": 297
        },
        "id": "FtPWsVkAr898",
        "outputId": "9400ed47-0d71-4ae6-8e8d-1ec12b4d814c"
      },
      "source": [
        "plt.figure()\r\n",
        "\r\n",
        "# Use the formula to generate the expected tmid at each epoch we have observations at\r\n",
        "tmid_precession = data['epoch'].apply(lambda E: precession_model(E, t0_precession, p_precession, e_precession, w_precession, dwdE_precession))\r\n",
        "\r\n",
        "# O-C between our observed tmids and these expected tmids\r\n",
        "OC_precession = pd.Series(data=(data['tmid'] - tmid_precession))\r\n",
        "\r\n",
        "plt.errorbar(data['epoch'], OC_precession, xerr=0, yerr=data['err'], linestyle='None', marker='.', mfc=\"w\", mec=\"b\")\r\n",
        "plt.axhline(y=0, xmin=0.0, xmax=1.0, color='black', linestyle='dashed', linewidth=0.5)\r\n",
        "plt.ylabel('Deviation of BJD$_{TDB} (days)$')\r\n",
        "plt.xlabel('Epoch')\r\n",
        "plt.title('O-C between observed $t_{mid}$ and predicted apsidal-precession $t_{mid}$')\r\n",
        "plt.show()"
      ],
      "execution_count": 28,
      "outputs": [
        {
          "output_type": "display_data",
          "data": {
            "image/png": "[encoded data removed]",
            "text/plain": [
              "<Figure size 432x288 with 1 Axes>"
            ]
          },
          "metadata": {
            "tags": [],
            "needs_background": "light"
          }
        }
      ]
    },
    {
      "cell_type": "markdown",
      "metadata": {
        "id": "qPZ9njTSvrEk"
      },
      "source": [
        "Again, sigma-clip the outliers."
      ]
    },
    {
      "cell_type": "code",
      "metadata": {
        "colab": {
          "base_uri": "https://localhost:8080/",
          "height": 297
        },
        "id": "1U2ZzFA1vtQx",
        "outputId": "8a1e1b4d-624a-4152-c5c1-de85d99cee14"
      },
      "source": [
        "# 3 Sigma-clip the OC Series\r\n",
        "OC_precession_clipped, low, upp = sigmaclip(OC_precession, low=3.0, high=3.0)\r\n",
        "\r\n",
        "OC_precession_clipped = pd.Series(data=OC_precession_clipped)\r\n",
        "\r\n",
        "# Apply the index to the main DataFrame\r\n",
        "data_precession = data.loc[OC_precession_clipped.index]\r\n",
        "\r\n",
        "plt.errorbar(data_precession['epoch'], OC_precession_clipped, xerr=0, yerr=data_precession['err'], linestyle='None', marker='.', mfc=\"w\", mec=\"b\")\r\n",
        "plt.axhline(y=0, xmin=0.0, xmax=1.0, color='black', linestyle='dashed', linewidth=0.5)\r\n",
        "plt.ylabel('Deviation of BJD$_{TDB} (days)$')\r\n",
        "plt.xlabel('Epoch')\r\n",
        "plt.title('O-C: observed $t_{mid}$ minus predicted precession model $t_{mid}$')\r\n",
        "plt.show()"
      ],
      "execution_count": 29,
      "outputs": [
        {
          "output_type": "display_data",
          "data": {
            "image/png": "[encoded data removed]",
            "text/plain": [
              "<Figure size 432x288 with 1 Axes>"
            ]
          },
          "metadata": {
            "tags": [],
            "needs_background": "light"
          }
        }
      ]
    },
    {
      "cell_type": "markdown",
      "metadata": {
        "id": "3YFn8S88N9nW"
      },
      "source": [
        "This doesn't look as promising as the decay model at first glance - a perfect fit would be a straight line along y=0, this is showing a curve - but let us quantify the fits."
      ]
    },
    {
      "cell_type": "markdown",
      "metadata": {
        "id": "dWwvn4-dbocF"
      },
      "source": [
        "## Statistical Analysis"
      ]
    },
    {
      "cell_type": "markdown",
      "metadata": {
        "collapsed": false,
        "pycharm": {
          "name": "#%% md\n"
        },
        "id": "3L6BNtPxR1-6"
      },
      "source": [
        "### Judging models: $\\chi^2$ calculation\n",
        "\n",
        "These functions are for the $\\chi^2$ statistic, which can measure how well a model $y(x_i)$ is fitted to the observed data $y_i$ with uncertainty $\\alpha_i$. \n",
        "\n",
        "$$ \\chi^2 = \\sum_i{\\frac{y_i-y(x_i)}{\\alpha_i^2}}$$\n",
        "\n",
        "We divide $\\chi^2$ by $\\nu$, the degrees of freedom (the number of datapoints minus the number of fitted parameters) to obtain the reduced chi-squared:\n",
        "\n",
        "$$ \\chi^2_\\text{reduced} = \\frac{\\chi^2}{\\nu} $$\n",
        "\n",
        "For each model, the null hypothesis is that the model is the best representation (thus the closest fit) to the observed mid-time/epochs. As the three models have different numbers of parameters, we used the reduced chi-squared. If a model is a good-fit, then $\\chi^2\\sim\\nu$, so $\\chi{^2_\\nu}\\sim1$.  \n",
        "\n",
        "(Models could also be deemed a good fit if $\\chi^2$ is within two standard deviations $\\pm2\\sqrt{2\\nu}$ of the mean, $\\nu$. The probability of being outside this is approximately 0.04, similar to the 5% significance level: so if over 1 s.d. larger than the mean, it suggests the null hypothesis should be rejected; if smaller by more than one 1 s.d., the model might show over-fitting.)\n",
        "\n",
        "Reference: Hughes, Ifan and Hase, Thomas (2010). *Measurements and their Uncertainties: A practical guide to modern error analysis.* Oxford University Press.\n"
      ]
    },
    {
      "cell_type": "code",
      "metadata": {
        "pycharm": {
          "name": "#%%\n"
        },
        "id": "iRSRG4WAR1-6"
      },
      "source": [
        "def chi_squared(y_i,yx,alpha):\n",
        "    \"\"\"Calculates the unreduced chi squared.\n",
        "    \n",
        "    Parameters\n",
        "    ----------\n",
        "    y_i : float\n",
        "        Observed y value (the y_i in the formula)\n",
        "    yx : float\n",
        "        y values of the fitted line (the y(x) in the formula )\n",
        "    alpha : float\n",
        "        Error in observed y, in the same units as y\n",
        "    \n",
        "    Returns\n",
        "    -------\n",
        "    chi2 : float\n",
        "        the unreduced chi squared value\n",
        "    \"\"\"\n",
        "\n",
        "    chi2=0\n",
        "    for i,y in enumerate(y_i):\n",
        "        chi2 += ((y-yx[i])**2) / (alpha[i]**2)\n",
        "    return chi2\n",
        "\n",
        "def reduced_chi_squared(y_i,yx,alpha,m):\n",
        "    \"\"\"Calculates the reduced chi squared from the raw data.\n",
        "    \n",
        "    Parameters\n",
        "    ----------\n",
        "    y_i : float\n",
        "        Observed y value (the y_i in the formula)\n",
        "    yx : float\n",
        "        y values of the fitted line (the y(x) in the formula )\n",
        "    alpha : float\n",
        "        Error in observed y, in the same units as y\n",
        "    m : int\n",
        "        number of fitted parameters\n",
        "\n",
        "    Returns\n",
        "    -------\n",
        "    reduced_chi2 : float\n",
        "        Unreduced chi squared value\n",
        "    \n",
        "    Notes\n",
        "    -----\n",
        "\n",
        "    Just chisq divided by degrees of freedom. Degree of freedom is just number \n",
        "    of observations n minus number of fitted parameters m, where n is just the \n",
        "    number of y (or y(x) or x) values.\n",
        "    \"\"\"\n",
        "    n = len(y_i) # number of observations/datapoints\n",
        "    dof = n-m # degree of freedom, m is fitted params\n",
        "    chi2 = chi_squared(y_i,yx,alpha) # get the unreduced chi squared\n",
        "    reduced_chi2 = chi2/dof # reduce it\n",
        "    return reduced_chi2"
      ],
      "execution_count": 30,
      "outputs": []
    },
    {
      "cell_type": "code",
      "metadata": {
        "id": "U-R3tLr7285n",
        "colab": {
          "base_uri": "https://localhost:8080/"
        },
        "outputId": "30bbd150-3889-488d-d17f-c22b16ab0ea1"
      },
      "source": [
        "print(\"Constant period:\")\r\n",
        "print(\"Chi-squared\", chi_squared(data_linear['tmid'], tmid_linear, data_linear['err']))\r\n",
        "print(\"Reduced chi-squared\", reduced_chi_squared(data_linear['tmid'], tmid_linear, data_linear['err'], len(pars_linear)))\r\n",
        "\r\n",
        "print(\"\\nOrbital decay:\")\r\n",
        "print(\"Chi-squared\", chi_squared(data_decay['tmid'], tmid_decay, data_decay['err']))\r\n",
        "print(\"Reduced chi-squared\", reduced_chi_squared(data_decay['tmid'], tmid_decay, data_decay['err'], len(pars_decay)))\r\n",
        "\r\n",
        "print(\"\\nApsidal precession:\")\r\n",
        "print(\"Chi-squared\", chi_squared(data_precession['tmid'], tmid_precession, data_precession['err']))\r\n",
        "print(\"Reduced chi-squared\", reduced_chi_squared(data_precession['tmid'], tmid_precession, data_precession['err'], len(pars_precession)))"
      ],
      "execution_count": 31,
      "outputs": [
        {
          "output_type": "stream",
          "text": [
            "Constant period:\n",
            "Chi-squared 1563.756832120829\n",
            "Reduced chi-squared 8.317855490004408\n",
            "\n",
            "Orbital decay:\n",
            "Chi-squared 1249.4280224089266\n",
            "Reduced chi-squared 6.980044817926964\n",
            "\n",
            "Apsidal precession:\n",
            "Chi-squared 2577.9444032934603\n",
            "Reduced chi-squared 13.288373212852887\n"
          ],
          "name": "stdout"
        }
      ]
    },
    {
      "cell_type": "markdown",
      "metadata": {
        "id": "4CiZc0x5GBDp"
      },
      "source": [
        "As can be seen, orbital decay is the best (or rather, least-worst) fit. More data needs to be included over a longer time-scale. For apsidal precession, further constraints on the parameter initial guesses and uncertainties would be beneficial for Levenberg-Marquadt. A lower DQ on the ETD data may improve the quality at the sacrifice of number of datapoints."
      ]
    },
    {
      "cell_type": "markdown",
      "metadata": {
        "id": "IibVByd2GUFf"
      },
      "source": [
        "### Comparing models: AIC and BIC"
      ]
    },
    {
      "cell_type": "code",
      "metadata": {
        "id": "SdCCH8MNGZF4"
      },
      "source": [
        "def AIC(chisq, k):\r\n",
        "    return chisq + 2*k\r\n",
        "\r\n",
        "def BIC(chisq, k, n):\r\n",
        "    return chisq + k*(np.log10(n))"
      ],
      "execution_count": 32,
      "outputs": []
    },
    {
      "cell_type": "markdown",
      "metadata": {
        "id": "8L76SDJFJOgK"
      },
      "source": [
        "$\\Delta{AIC}$ and $\\Delta{BIC}$ for a model is found by the difference between the lowest value of the IC for the three models minus the IC for that model. These can be used in the below functions too:"
      ]
    },
    {
      "cell_type": "code",
      "metadata": {
        "id": "kznIFlclJNcD"
      },
      "source": [
        "def likelihood_ratio(delta_AIC):\r\n",
        "    return np.exp(delta_AIC/2)\r\n",
        "\r\n",
        "def bayes_factor(delta_BIC):\r\n",
        "    \"\"\"Approximate Bayes factor\"\"\"\r\n",
        "    return np.exp(delta_BIC/2)"
      ],
      "execution_count": 33,
      "outputs": []
    }
  ]
}
